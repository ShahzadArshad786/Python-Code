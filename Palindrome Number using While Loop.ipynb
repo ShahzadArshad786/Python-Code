{
 "cells": [
  {
   "cell_type": "markdown",
   "id": "76c54661",
   "metadata": {},
   "source": [
    "#### Write a Python Program to check whether a given number is a palindrome or not using while loop."
   ]
  },
  {
   "cell_type": "code",
   "execution_count": 1,
   "id": "3a624c06",
   "metadata": {},
   "outputs": [
    {
     "name": "stdout",
     "output_type": "stream",
     "text": [
      "Enter Any Positive Number: 17871\n",
      "\n",
      " 17871  is a Palindrome\n"
     ]
    }
   ],
   "source": [
    "num = int(input(\"Enter Any Positive Number: \"))\n",
    "\n",
    " \n",
    "rev_num = 0\n",
    "n = num\n",
    "\n",
    "while (n != 0):\n",
    "    digit = n % 10 \n",
    "    rev_num = (rev_num * 10) + digit\n",
    "    n = n // 10\n",
    "\n",
    "    \n",
    "if(num == rev_num):\n",
    "    \n",
    "    print( \"\\n\" , num, \" is a Palindrome\")\n",
    "    \n",
    "else:\n",
    "    print( \"\\n\" , num, \" is not a Palindrome\")"
   ]
  },
  {
   "cell_type": "markdown",
   "id": "ab4d9600",
   "metadata": {},
   "source": [
    "#### Write a Python program to print all Palindrome Numbers between given range. "
   ]
  },
  {
   "cell_type": "code",
   "execution_count": 11,
   "id": "eebf3bea",
   "metadata": {},
   "outputs": [
    {
     "name": "stdout",
     "output_type": "stream",
     "text": [
      "\n",
      "Please Enter Minimum Number : 1000\n",
      "\n",
      "Please Enter Maximum Number : 2000\n",
      "\n",
      "Palindrome Numbers Between  1000  and  2000  are : \n",
      "\n",
      "1001  1111  1221  1331  1441  1551  1661  1771  1881  1991  "
     ]
    }
   ],
   "source": [
    "min = int(input(\"\\nPlease Enter Minimum Number : \"))\n",
    "max = int(input(\"\\nPlease Enter Maximum Number : \"))\n",
    "\n",
    "print(\"\\nPalindrome Numbers Between \", min , \" and \" , max , \" are : \\n\") \n",
    "\n",
    "for num in range(min, max + 1):\n",
    "    rev_num = 0\n",
    "    temp = num\n",
    "    \n",
    "    while ( temp > 0):\n",
    "        digit = temp % 10 \n",
    "        rev_num = (rev_num * 10) + digit\n",
    "        temp = temp // 10\n",
    "        \n",
    "    if(num == rev_num):\n",
    "         print(\"%d \" %num, end = ' ')\n",
    "    "
   ]
  }
 ],
 "metadata": {
  "kernelspec": {
   "display_name": "Python 3 (ipykernel)",
   "language": "python",
   "name": "python3"
  },
  "language_info": {
   "codemirror_mode": {
    "name": "ipython",
    "version": 3
   },
   "file_extension": ".py",
   "mimetype": "text/x-python",
   "name": "python",
   "nbconvert_exporter": "python",
   "pygments_lexer": "ipython3",
   "version": "3.9.13"
  }
 },
 "nbformat": 4,
 "nbformat_minor": 5
}
