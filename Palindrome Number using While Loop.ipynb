{
 "cells": [
  {
   "cell_type": "code",
   "execution_count": 14,
   "id": "cab4b7d0",
   "metadata": {},
   "outputs": [
    {
     "name": "stdout",
     "output_type": "stream",
     "text": [
      "Enter Any Positive Number: 2551\n",
      "2551  is not Plaindrome\n"
     ]
    }
   ],
   "source": [
    "num = int(input(\"Enter Any Positive Number: \"))\n",
    "\n",
    " \n",
    "rev_num = 0\n",
    "n = num\n",
    "\n",
    "while (n != 0):\n",
    "    digit = n % 10 \n",
    "    rev_num = (rev_num * 10) + digit\n",
    "    n = n // 10\n",
    "\n",
    "    \n",
    "if(num == rev_num):\n",
    "    \n",
    "    print( num, \" is Palindrome\")\n",
    "    \n",
    "else:\n",
    "    print( num, \" is not Palindrome\")"
   ]
  },
  {
   "cell_type": "code",
   "execution_count": 15,
   "id": "eebf3bea",
   "metadata": {},
   "outputs": [
    {
     "name": "stdout",
     "output_type": "stream",
     "text": [
      "Enter Any Positive Number: 1221\n",
      "1221  is Plaindrome\n"
     ]
    }
   ],
   "source": [
    "num = int(input(\"Enter Any Positive Number: \"))\n",
    "\n",
    " \n",
    "rev_num = 0\n",
    "n = num\n",
    "\n",
    "while (n != 0):\n",
    "    digit = n % 10 \n",
    "    rev_num = (rev_num * 10) + digit\n",
    "    n = n // 10\n",
    "\n",
    "    \n",
    "if(num == rev_num):\n",
    "    \n",
    "    print( num, \" is Palindrome\")\n",
    "    \n",
    "else:\n",
    "    print( num, \" is not Palindrome\")"
   ]
  }
 ],
 "metadata": {
  "kernelspec": {
   "display_name": "Python 3 (ipykernel)",
   "language": "python",
   "name": "python3"
  },
  "language_info": {
   "codemirror_mode": {
    "name": "ipython",
    "version": 3
   },
   "file_extension": ".py",
   "mimetype": "text/x-python",
   "name": "python",
   "nbconvert_exporter": "python",
   "pygments_lexer": "ipython3",
   "version": "3.9.13"
  }
 },
 "nbformat": 4,
 "nbformat_minor": 5
}
