{
 "cells": [
  {
   "cell_type": "markdown",
   "id": "1049e59b",
   "metadata": {},
   "source": [
    "#### Write a Python program that inputs maximum limit and prints square and cube of each  Number till maximum limit using for loop. "
   ]
  },
  {
   "cell_type": "code",
   "execution_count": 4,
   "id": "fa6f802b",
   "metadata": {},
   "outputs": [
    {
     "name": "stdout",
     "output_type": "stream",
     "text": [
      "Enter an Integer Number: 8\n",
      "\n",
      "Number\tSquare\tCube\n",
      "1 \t 1 \t 1\n",
      "2 \t 4 \t 8\n",
      "3 \t 9 \t 27\n",
      "4 \t 16 \t 64\n",
      "5 \t 25 \t 125\n",
      "6 \t 36 \t 216\n",
      "7 \t 49 \t 343\n",
      "8 \t 64 \t 512\n"
     ]
    }
   ],
   "source": [
    "limit = int(input(\"Enter an Integer Number: \"))\n",
    "\n",
    "print()\n",
    "print(\"Number\\tSquare\\tCube\")\n",
    "\n",
    "for num in range (1, limit + 1 ):\n",
    "    \n",
    "    print (num, \"\\t\", num * num , \"\\t\", num * num * num)"
   ]
  },
  {
   "cell_type": "markdown",
   "id": "3bd81f46",
   "metadata": {},
   "source": [
    "#### Write a Python program that inputs maximum limit and prints square and cube of each Number till maximum limit using while loop. "
   ]
  },
  {
   "cell_type": "code",
   "execution_count": 3,
   "id": "6ebf99df",
   "metadata": {},
   "outputs": [
    {
     "name": "stdout",
     "output_type": "stream",
     "text": [
      "Enter an Integer Number: 10\n",
      "\n",
      "Number\tSquare\tCube\n",
      "1 \t 1 \t 1\n",
      "2 \t 4 \t 8\n",
      "3 \t 9 \t 27\n",
      "4 \t 16 \t 64\n",
      "5 \t 25 \t 125\n",
      "6 \t 36 \t 216\n",
      "7 \t 49 \t 343\n",
      "8 \t 64 \t 512\n",
      "9 \t 81 \t 729\n",
      "10 \t 100 \t 1000\n"
     ]
    }
   ],
   "source": [
    "limit = int(input(\"Enter an Integer Number: \"))\n",
    "\n",
    "s = 1\n",
    "print()\n",
    "print(\"Number\\tSquare\\tCube\")\n",
    "\n",
    "while(s <= limit):\n",
    "    \n",
    "    print (s, \"\\t\", s * s , \"\\t\", s * s * s)\n",
    "    \n",
    "    s = s + 1"
   ]
  }
 ],
 "metadata": {
  "kernelspec": {
   "display_name": "Python 3 (ipykernel)",
   "language": "python",
   "name": "python3"
  },
  "language_info": {
   "codemirror_mode": {
    "name": "ipython",
    "version": 3
   },
   "file_extension": ".py",
   "mimetype": "text/x-python",
   "name": "python",
   "nbconvert_exporter": "python",
   "pygments_lexer": "ipython3",
   "version": "3.9.13"
  }
 },
 "nbformat": 4,
 "nbformat_minor": 5
}
