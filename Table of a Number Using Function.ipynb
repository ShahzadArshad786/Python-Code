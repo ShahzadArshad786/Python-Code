{
 "cells": [
  {
   "cell_type": "code",
   "execution_count": 12,
   "id": "b9ef2b8e",
   "metadata": {},
   "outputs": [
    {
     "name": "stdout",
     "output_type": "stream",
     "text": [
      "Enter an Positive Integer Number: 8\n",
      "\n",
      "Table of  8 \n",
      "\n",
      "8  *  1  =  8\n",
      "8  *  2  =  16\n",
      "8  *  3  =  24\n",
      "8  *  4  =  32\n",
      "8  *  5  =  40\n",
      "8  *  6  =  48\n",
      "8  *  7  =  56\n",
      "8  *  8  =  64\n",
      "8  *  9  =  72\n",
      "8  *  10  =  80\n"
     ]
    }
   ],
   "source": [
    "def Table(n):\n",
    "   \n",
    "    for i in range(1,11):\n",
    "        \n",
    "        print(n , \" * \" , i , \" = \" , n*i)\n",
    "\n",
    "\n",
    "n = int(input(\"Enter an Positive Integer Number: \"))\n",
    "print(\"\\nTable of \", n , \"\\n\")\n",
    "Table(n)\n"
   ]
  },
  {
   "cell_type": "code",
   "execution_count": 13,
   "id": "2d0f1384",
   "metadata": {},
   "outputs": [
    {
     "name": "stdout",
     "output_type": "stream",
     "text": [
      "Enter an Positive Integer Number: 10\n",
      "\n",
      "Table of  10 \n",
      "\n",
      "10  *  1  =  10\n",
      "10  *  2  =  20\n",
      "10  *  3  =  30\n",
      "10  *  4  =  40\n",
      "10  *  5  =  50\n",
      "10  *  6  =  60\n",
      "10  *  7  =  70\n",
      "10  *  8  =  80\n",
      "10  *  9  =  90\n",
      "10  *  10  =  100\n"
     ]
    }
   ],
   "source": [
    "def Table(n):\n",
    "    \n",
    "    i = 1 \n",
    "    \n",
    "    while (i <= 10):\n",
    "        \n",
    "        print(n , \" * \" , i , \" = \" , n*i)\n",
    "        \n",
    "        i = i + 1\n",
    "        \n",
    "        \n",
    "n = int(input(\"Enter an Positive Integer Number: \"))\n",
    "print(\"\\nTable of \", n , \"\\n\")\n",
    "Table(n)\n"
   ]
  }
 ],
 "metadata": {
  "kernelspec": {
   "display_name": "Python 3 (ipykernel)",
   "language": "python",
   "name": "python3"
  },
  "language_info": {
   "codemirror_mode": {
    "name": "ipython",
    "version": 3
   },
   "file_extension": ".py",
   "mimetype": "text/x-python",
   "name": "python",
   "nbconvert_exporter": "python",
   "pygments_lexer": "ipython3",
   "version": "3.9.13"
  }
 },
 "nbformat": 4,
 "nbformat_minor": 5
}
