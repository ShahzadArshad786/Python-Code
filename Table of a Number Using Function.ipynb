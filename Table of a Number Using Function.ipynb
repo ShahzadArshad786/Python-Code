{
 "cells": [
  {
   "cell_type": "markdown",
   "id": "24278770",
   "metadata": {},
   "source": [
    "#### Write a Python funtion to input an integer number and Print Table of a Given Number using for loop. "
   ]
  },
  {
   "cell_type": "code",
   "execution_count": 2,
   "id": "aa78912e",
   "metadata": {},
   "outputs": [
    {
     "name": "stdout",
     "output_type": "stream",
     "text": [
      "Enter an Positive Integer Number : 8\n",
      "\n",
      "Table of  8  is : \n",
      "\n",
      "8  *  1  =  8\n",
      "8  *  2  =  16\n",
      "8  *  3  =  24\n",
      "8  *  4  =  32\n",
      "8  *  5  =  40\n",
      "8  *  6  =  48\n",
      "8  *  7  =  56\n",
      "8  *  8  =  64\n",
      "8  *  9  =  72\n",
      "8  *  10  =  80\n"
     ]
    }
   ],
   "source": [
    "def Table(n):\n",
    "   \n",
    "    for i in range(1,11):\n",
    "        \n",
    "        print(n , \" * \" , i , \" = \" , n*i)\n",
    "\n",
    "\n",
    "n = int(input(\"Enter an Positive Integer Number : \"))\n",
    "print(\"\\nTable of \", n , \" is : \\n\")\n",
    "Table(n)"
   ]
  },
  {
   "cell_type": "markdown",
   "id": "87bb9691",
   "metadata": {},
   "source": [
    "#### Write a Python funtion to input an integer number and Print Table of a Given Number using while loop."
   ]
  },
  {
   "cell_type": "code",
   "execution_count": 3,
   "id": "2d0f1384",
   "metadata": {},
   "outputs": [
    {
     "name": "stdout",
     "output_type": "stream",
     "text": [
      "Enter an Positive Integer Number: 17\n",
      "\n",
      "Table of  17  is : \n",
      "\n",
      "17  *  1  =  17\n",
      "17  *  2  =  34\n",
      "17  *  3  =  51\n",
      "17  *  4  =  68\n",
      "17  *  5  =  85\n",
      "17  *  6  =  102\n",
      "17  *  7  =  119\n",
      "17  *  8  =  136\n",
      "17  *  9  =  153\n",
      "17  *  10  =  170\n"
     ]
    }
   ],
   "source": [
    "def Table(n):\n",
    "    \n",
    "    i = 1 \n",
    "    \n",
    "    while (i <= 10):\n",
    "        \n",
    "        print(n , \" * \" , i , \" = \" , n*i)\n",
    "        \n",
    "        i = i + 1\n",
    "        \n",
    "        \n",
    "n = int(input(\"Enter an Positive Integer Number: \"))\n",
    "print(\"\\nTable of \", n , \" is : \\n\")\n",
    "Table(n)\n"
   ]
  }
 ],
 "metadata": {
  "kernelspec": {
   "display_name": "Python 3 (ipykernel)",
   "language": "python",
   "name": "python3"
  },
  "language_info": {
   "codemirror_mode": {
    "name": "ipython",
    "version": 3
   },
   "file_extension": ".py",
   "mimetype": "text/x-python",
   "name": "python",
   "nbconvert_exporter": "python",
   "pygments_lexer": "ipython3",
   "version": "3.9.13"
  }
 },
 "nbformat": 4,
 "nbformat_minor": 5
}
