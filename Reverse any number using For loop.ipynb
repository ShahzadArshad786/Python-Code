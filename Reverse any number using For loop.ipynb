{
 "cells": [
  {
   "cell_type": "markdown",
   "id": "3ca87174",
   "metadata": {},
   "source": [
    "### Write a program to reverse any positive  integer number in python using for loop. "
   ]
  },
  {
   "cell_type": "code",
   "execution_count": null,
   "id": "d9527992",
   "metadata": {},
   "outputs": [],
   "source": [
    "num = int(input(\"Enter a number : = \"))\n",
    "\n",
    "rev_num = 0\n",
    "for i in range(0, len(str(num))):\n",
    "    last_digit = num % 10\n",
    "    rev_num = (rev_num*10) + last_digit\n",
    "    num = num // 10\n",
    "print(\"Reversed Number is = \", rev_num)"
   ]
  }
 ],
 "metadata": {
  "kernelspec": {
   "display_name": "Python 3 (ipykernel)",
   "language": "python",
   "name": "python3"
  },
  "language_info": {
   "codemirror_mode": {
    "name": "ipython",
    "version": 3
   },
   "file_extension": ".py",
   "mimetype": "text/x-python",
   "name": "python",
   "nbconvert_exporter": "python",
   "pygments_lexer": "ipython3",
   "version": "3.9.13"
  }
 },
 "nbformat": 4,
 "nbformat_minor": 5
}
