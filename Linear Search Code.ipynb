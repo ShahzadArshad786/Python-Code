{
 "cells": [
  {
   "cell_type": "code",
   "execution_count": 10,
   "id": "bf87c5f8",
   "metadata": {},
   "outputs": [],
   "source": [
    "import numpy as np "
   ]
  },
  {
   "cell_type": "code",
   "execution_count": 11,
   "id": "8423be35",
   "metadata": {},
   "outputs": [
    {
     "name": "stdout",
     "output_type": "stream",
     "text": [
      "Enter Length of Array: 5\n",
      "10\n",
      "20\n",
      "30\n",
      "40\n",
      "50\n",
      "Enter the Value for Search: 40\n",
      "40 is found at index 3\n"
     ]
    }
   ],
   "source": [
    "arr = []\n",
    "\n",
    "n = int(input(\"Enter Length of Array: \"))\n",
    "\n",
    "for i in range(0, n):\n",
    "    x = int(input())\n",
    "    arr = np.append( arr, x)\n",
    "\n",
    "\n",
    "val = int(input(\"Enter the Value for Search: \"))\n",
    "loc = -1\n",
    "\n",
    "for j in range(0, n):\n",
    "    if arr[j] == val:\n",
    "        loc = j \n",
    "        break \n",
    "        \n",
    "\n",
    "if loc != -1:\n",
    "    \n",
    "    print (val , \"is found at index\" , loc)\n",
    "\n",
    "else:\n",
    "    \n",
    "    print(val, \" is not found in Array\")\n",
    "        "
   ]
  },
  {
   "cell_type": "code",
   "execution_count": 12,
   "id": "1b64bb78",
   "metadata": {},
   "outputs": [
    {
     "name": "stdout",
     "output_type": "stream",
     "text": [
      "Enter Length of Array: 10\n",
      "10\n",
      "20\n",
      "30\n",
      "40\n",
      "50\n",
      "60\n",
      "70\n",
      "80\n",
      "90\n",
      "100\n",
      "Enter the Value for Search: 70\n",
      "70 is found at index 6\n"
     ]
    }
   ],
   "source": [
    "arr = []\n",
    "start = 0\n",
    "n = int(input(\"Enter Length of Array: \"))\n",
    "\n",
    "while (start < n):\n",
    "    x = int(input())\n",
    "    arr = np.append( arr, x)\n",
    "    start = start + 1\n",
    "\n",
    "val = int(input(\"Enter the Value for Search: \"))\n",
    "loc = -1\n",
    "\n",
    "\n",
    "s = 0 \n",
    "while(s < n):\n",
    "    if arr[s] == val:\n",
    "        loc = s\n",
    "        break \n",
    "    else:\n",
    "        s = s + 1\n",
    "\n",
    "if loc != -1:\n",
    "    \n",
    "    print (val , \"is found at index\" , loc)\n",
    "\n",
    "else:\n",
    "    \n",
    "    print(val, \" is not found in Array\")\n",
    "        "
   ]
  }
 ],
 "metadata": {
  "kernelspec": {
   "display_name": "Python 3 (ipykernel)",
   "language": "python",
   "name": "python3"
  },
  "language_info": {
   "codemirror_mode": {
    "name": "ipython",
    "version": 3
   },
   "file_extension": ".py",
   "mimetype": "text/x-python",
   "name": "python",
   "nbconvert_exporter": "python",
   "pygments_lexer": "ipython3",
   "version": "3.9.13"
  }
 },
 "nbformat": 4,
 "nbformat_minor": 5
}
