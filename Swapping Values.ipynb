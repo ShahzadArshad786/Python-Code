{
 "cells": [
  {
   "cell_type": "markdown",
   "id": "657c283a",
   "metadata": {},
   "source": [
    "#### Swapping values using 3rd variable"
   ]
  },
  {
   "cell_type": "code",
   "execution_count": 6,
   "id": "c70a147d",
   "metadata": {},
   "outputs": [
    {
     "name": "stdout",
     "output_type": "stream",
     "text": [
      "Enter an Integer : = 10\n",
      "Enter an Integer : = 30\n",
      "\n",
      "Values Before Swapping\n",
      "\n",
      "X =  10\n",
      "Y =  30\n",
      "\n",
      "Values After Swapping\n",
      "\n",
      "X =  30\n",
      "Y =  10\n"
     ]
    }
   ],
   "source": [
    "x = int(input(\"Enter an Integer : = \"))\n",
    "y = int(input(\"Enter an Integer : = \"))\n",
    "\n",
    "print(\"\\nValues Before Swapping\\n\")\n",
    "print(\"X = \" , x)\n",
    "print(\"Y = \" , y)\n",
    "\n",
    "temp = x\n",
    "x = y\n",
    "y = temp\n",
    "\n",
    "print(\"\\nValues After Swapping\\n\")\n",
    "print(\"X = \" , x)\n",
    "print(\"Y = \" , y)"
   ]
  },
  {
   "cell_type": "markdown",
   "id": "41828c1c",
   "metadata": {},
   "source": [
    "#### Swapping values using without 3rd variable"
   ]
  },
  {
   "cell_type": "code",
   "execution_count": 5,
   "id": "b434bd3a",
   "metadata": {},
   "outputs": [
    {
     "name": "stdout",
     "output_type": "stream",
     "text": [
      "Enter an Integer : = 10\n",
      "Enter an Integer : = 20\n",
      "\n",
      "Values Before Swapping\n",
      "\n",
      "X =  10\n",
      "Y =  20\n",
      "\n",
      "Values After Swapping\n",
      "\n",
      "X =  20\n",
      "Y =  10\n"
     ]
    }
   ],
   "source": [
    "x = int(input(\"Enter an Integer : = \"))\n",
    "y = int(input(\"Enter an Integer : = \"))\n",
    "\n",
    "print(\"\\nValues Before Swapping\\n\")\n",
    "print(\"X = \" , x)\n",
    "print(\"Y = \" , y)\n",
    "\n",
    "x = x + y \n",
    "y = x - y\n",
    "x = x - y \n",
    "\n",
    "print(\"\\nValues After Swapping\\n\")\n",
    "print(\"X = \" , x)\n",
    "print(\"Y = \" , y)"
   ]
  }
 ],
 "metadata": {
  "kernelspec": {
   "display_name": "Python 3 (ipykernel)",
   "language": "python",
   "name": "python3"
  },
  "language_info": {
   "codemirror_mode": {
    "name": "ipython",
    "version": 3
   },
   "file_extension": ".py",
   "mimetype": "text/x-python",
   "name": "python",
   "nbconvert_exporter": "python",
   "pygments_lexer": "ipython3",
   "version": "3.9.13"
  }
 },
 "nbformat": 4,
 "nbformat_minor": 5
}
