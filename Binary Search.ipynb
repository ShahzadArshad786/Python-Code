{
 "cells": [
  {
   "cell_type": "code",
   "execution_count": 1,
   "id": "ec145c43",
   "metadata": {},
   "outputs": [],
   "source": [
    "import numpy as np"
   ]
  },
  {
   "cell_type": "code",
   "execution_count": 7,
   "id": "d55c35e0",
   "metadata": {},
   "outputs": [
    {
     "name": "stdout",
     "output_type": "stream",
     "text": [
      "Enter Length of Array: 10\n",
      "\n",
      "Input  10  values in Ascending Order\n",
      "\n",
      "10\n",
      "20\n",
      "30\n",
      "40\n",
      "50\n",
      "60\n",
      "70\n",
      "80\n",
      "90\n",
      "100\n",
      "Enter the Value for Search: 70\n",
      "70 is found at index 6\n"
     ]
    }
   ],
   "source": [
    "arr = []\n",
    "\n",
    "n = int(input(\"Enter Length of Array: \"))\n",
    "start = 0 \n",
    "end = n \n",
    "print(\"\\nInput \" , n , \" values in Ascending Order\\n\")\n",
    "for i in range(0, n):\n",
    "    x = int(input())\n",
    "    arr = np.append( arr, x)\n",
    "\n",
    "\n",
    "val = int(input(\"Enter the Value for Search: \"))\n",
    "\n",
    "loc = -1\n",
    "mid = 0 \n",
    "\n",
    "while (start <= end):\n",
    "    \n",
    "    mid = int(start + end)//2\n",
    "    \n",
    "    if arr[mid] == val:\n",
    "        loc = mid\n",
    "        break\n",
    "        \n",
    "    elif (val < arr[mid]):\n",
    "        end = mid - 1\n",
    "        \n",
    "    else:\n",
    "        start = mid + 1\n",
    "\n",
    "               \n",
    "if loc != -1:\n",
    "    \n",
    "    print (val , \"is found at index\" , loc)\n",
    "\n",
    "else:\n",
    "    \n",
    "    print(val, \" is not found in Array\")\n",
    "        "
   ]
  }
 ],
 "metadata": {
  "kernelspec": {
   "display_name": "Python 3 (ipykernel)",
   "language": "python",
   "name": "python3"
  },
  "language_info": {
   "codemirror_mode": {
    "name": "ipython",
    "version": 3
   },
   "file_extension": ".py",
   "mimetype": "text/x-python",
   "name": "python",
   "nbconvert_exporter": "python",
   "pygments_lexer": "ipython3",
   "version": "3.9.13"
  }
 },
 "nbformat": 4,
 "nbformat_minor": 5
}
