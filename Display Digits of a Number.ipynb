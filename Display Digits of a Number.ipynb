{
 "cells": [
  {
   "cell_type": "markdown",
   "id": "b56d0b7a",
   "metadata": {},
   "source": [
    "#### Write a Python program that inputs 3-Digits Number and Display its Digits  in seperate three lines. "
   ]
  },
  {
   "cell_type": "code",
   "execution_count": 6,
   "id": "a00aeba6",
   "metadata": {},
   "outputs": [
    {
     "name": "stdout",
     "output_type": "stream",
     "text": [
      "Enter Any 3-Digits Number : 123\n",
      "\n",
      "Digits are : \n",
      "1\n",
      "2\n",
      "3\n"
     ]
    }
   ],
   "source": [
    "num = int(input(\"Enter Any 3-Digits Number : \"))\n",
    "\n",
    "if(num < 100 or num > 999):\n",
    "    \n",
    "    print(\"You entered Invalid Number\")\n",
    "    \n",
    "else:\n",
    "    \n",
    "    a = num // 100 \n",
    "    a1 = num % 100\n",
    "    b = a1 // 10\n",
    "    c = a1 % 10\n",
    "    \n",
    "    print(\"\\nDigits are : \")\n",
    "    print(a)\n",
    "    print(b)\n",
    "    print(c)"
   ]
  },
  {
   "cell_type": "markdown",
   "id": "687d7404",
   "metadata": {},
   "source": [
    "#### Write a Python program that inputs a Positive Number and Display its Digits in seperate  lines using loop."
   ]
  },
  {
   "cell_type": "code",
   "execution_count": 5,
   "id": "0f83c730",
   "metadata": {},
   "outputs": [
    {
     "name": "stdout",
     "output_type": "stream",
     "text": [
      "Enter Any Positive Number : 123456\n",
      "\n",
      "Digits are : \n",
      "1\n",
      "2\n",
      "3\n",
      "4\n",
      "5\n",
      "6\n"
     ]
    }
   ],
   "source": [
    "num = int(input(\"Enter Any Positive Number : \"))\n",
    "\n",
    "print(\"\\nDigits are : \")\n",
    "\n",
    "\n",
    "for digit in str(num):\n",
    "    print(digit)\n",
    "    "
   ]
  }
 ],
 "metadata": {
  "kernelspec": {
   "display_name": "Python 3 (ipykernel)",
   "language": "python",
   "name": "python3"
  },
  "language_info": {
   "codemirror_mode": {
    "name": "ipython",
    "version": 3
   },
   "file_extension": ".py",
   "mimetype": "text/x-python",
   "name": "python",
   "nbconvert_exporter": "python",
   "pygments_lexer": "ipython3",
   "version": "3.9.13"
  }
 },
 "nbformat": 4,
 "nbformat_minor": 5
}
