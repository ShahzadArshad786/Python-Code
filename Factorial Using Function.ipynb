{
 "cells": [
  {
   "cell_type": "markdown",
   "id": "3a83d743",
   "metadata": {},
   "source": [
    "#### Write a Python function  to calculate the factorial of a number (a non-negative integer). The function accepts the number as an argument and return the factorial value.  "
   ]
  },
  {
   "cell_type": "code",
   "execution_count": 2,
   "id": "8791a0d7",
   "metadata": {},
   "outputs": [
    {
     "name": "stdout",
     "output_type": "stream",
     "text": [
      "\n",
      "Enter an Positive Integer Number: 9\n",
      "\n",
      "Factorial of 9  is :  362880\n"
     ]
    }
   ],
   "source": [
    "def factorial(n):\n",
    "    fact = 1\n",
    "    for i in range(1,n+1):\n",
    "        fact = fact * i\n",
    "    return fact\n",
    "\n",
    "n = int(input(\"\\nEnter an Positive Integer Number: \"))\n",
    "res = factorial(n)\n",
    "\n",
    "print(\"\\nFactorial of\", n , \" is : \" , res)"
   ]
  },
  {
   "cell_type": "markdown",
   "id": "625f7c61",
   "metadata": {},
   "source": [
    "#### Write a Python function to calculate the factorial of a number (a non-negative integer). The function accepts the number as an argument and return the factorial value."
   ]
  },
  {
   "cell_type": "code",
   "execution_count": 3,
   "id": "cd3cfe32",
   "metadata": {},
   "outputs": [
    {
     "name": "stdout",
     "output_type": "stream",
     "text": [
      "\n",
      "Enter an Positive Integer Number: 5\n",
      "\n",
      "Factorial of 5  is :  120\n"
     ]
    }
   ],
   "source": [
    "def factorial(n):\n",
    "    fact = 1\n",
    "    i = 1\n",
    "    while (i <= n):\n",
    "        fact = fact * i\n",
    "        i = i + 1\n",
    "    return fact\n",
    "\n",
    "n = int(input(\"\\nEnter an Positive Integer Number: \"))\n",
    "res = factorial(n)\n",
    "\n",
    "print(\"\\nFactorial of\", n , \" is : \" , res)"
   ]
  }
 ],
 "metadata": {
  "kernelspec": {
   "display_name": "Python 3 (ipykernel)",
   "language": "python",
   "name": "python3"
  },
  "language_info": {
   "codemirror_mode": {
    "name": "ipython",
    "version": 3
   },
   "file_extension": ".py",
   "mimetype": "text/x-python",
   "name": "python",
   "nbconvert_exporter": "python",
   "pygments_lexer": "ipython3",
   "version": "3.9.13"
  }
 },
 "nbformat": 4,
 "nbformat_minor": 5
}
