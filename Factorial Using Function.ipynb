{
 "cells": [
  {
   "cell_type": "code",
   "execution_count": 9,
   "id": "9dddfd80",
   "metadata": {},
   "outputs": [
    {
     "name": "stdout",
     "output_type": "stream",
     "text": [
      "Enter an Positive Integer Number: 9\n",
      "Factorial of 9  is :  362880\n"
     ]
    }
   ],
   "source": [
    "def factorial(n):\n",
    "    fact = 1\n",
    "    for i in range(1,n+1):\n",
    "        fact = fact * i\n",
    "    return fact\n",
    "\n",
    "n = int(input(\"Enter an Positive Integer Number: \"))\n",
    "res = factorial(n)\n",
    "\n",
    "print(\"Factorial of\", n , \" is : \" , res)\n"
   ]
  },
  {
   "cell_type": "code",
   "execution_count": 10,
   "id": "172962a0",
   "metadata": {},
   "outputs": [
    {
     "name": "stdout",
     "output_type": "stream",
     "text": [
      "Enter an Positive Integer Number: 9\n",
      "Factorial of 9  is :  362880\n"
     ]
    }
   ],
   "source": [
    "def factorial(n):\n",
    "    fact = 1\n",
    "    i = 1\n",
    "    while (i <= n):\n",
    "        fact = fact * i\n",
    "        i = i + 1\n",
    "    return fact\n",
    "\n",
    "n = int(input(\"Enter an Positive Integer Number: \"))\n",
    "res = factorial(n)\n",
    "\n",
    "print(\"Factorial of\", n , \" is : \" , res)"
   ]
  }
 ],
 "metadata": {
  "kernelspec": {
   "display_name": "Python 3 (ipykernel)",
   "language": "python",
   "name": "python3"
  },
  "language_info": {
   "codemirror_mode": {
    "name": "ipython",
    "version": 3
   },
   "file_extension": ".py",
   "mimetype": "text/x-python",
   "name": "python",
   "nbconvert_exporter": "python",
   "pygments_lexer": "ipython3",
   "version": "3.9.13"
  }
 },
 "nbformat": 4,
 "nbformat_minor": 5
}
