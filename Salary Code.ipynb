{
 "cells": [
  {
   "cell_type": "markdown",
   "id": "2e46dbdb",
   "metadata": {},
   "source": [
    "#### Write a Python Program that inpus Salary. If the Salary is 20000 or more it deducts 7% of Salary. If the Salary is 10000 or more but less than 20000, it deducts 1000 from the Salary. If Salary is less than 10000, it deducts nothing. It finally displays the net Salary. "
   ]
  },
  {
   "cell_type": "code",
   "execution_count": 4,
   "id": "6f3ae98e",
   "metadata": {},
   "outputs": [
    {
     "name": "stdout",
     "output_type": "stream",
     "text": [
      "Enter Employee Salary : 22000\n",
      "\n",
      "Basic Salary is :  22000\n",
      "\n",
      "Net Salary is   :  20460.0\n"
     ]
    }
   ],
   "source": [
    "salary = int(input(\"Enter Employee Salary : \"))\n",
    "\n",
    "if ( salary >= 20000 ):\n",
    "    \n",
    "    deduct = (salary * 7.0) / 100\n",
    "    net = salary - deduct \n",
    "    \n",
    "elif ( salary >= 10000 ):\n",
    "    \n",
    "    deduct = 1000\n",
    "    net = salary - deduct \n",
    "    \n",
    "else:\n",
    "    \n",
    "    net = salary \n",
    "    \n",
    "print()\n",
    "print(\"Basic Salary is : \" , salary)\n",
    "print()\n",
    "print(\"Net Salary is   : \" , net) "
   ]
  }
 ],
 "metadata": {
  "kernelspec": {
   "display_name": "Python 3 (ipykernel)",
   "language": "python",
   "name": "python3"
  },
  "language_info": {
   "codemirror_mode": {
    "name": "ipython",
    "version": 3
   },
   "file_extension": ".py",
   "mimetype": "text/x-python",
   "name": "python",
   "nbconvert_exporter": "python",
   "pygments_lexer": "ipython3",
   "version": "3.9.13"
  }
 },
 "nbformat": 4,
 "nbformat_minor": 5
}
