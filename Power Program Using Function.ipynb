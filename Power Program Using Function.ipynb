{
 "cells": [
  {
   "cell_type": "code",
   "execution_count": 3,
   "id": "c38d6047",
   "metadata": {},
   "outputs": [
    {
     "name": "stdout",
     "output_type": "stream",
     "text": [
      "Enter Base     : 3\n",
      "Enter Exponent : 4\n",
      "3  ^  4  is :  81\n"
     ]
    }
   ],
   "source": [
    "def Power(base, exp):\n",
    "    pow = 1\n",
    "    for i in range(1,exp+1):\n",
    "        pow = pow * base\n",
    "    return pow\n",
    "\n",
    "base = int(input(\"Enter Base     : \"))\n",
    "exp  = int(input(\"Enter Exponent : \"))\n",
    "res = Power(base, exp)\n",
    "\n",
    "print(base , \" ^ \"  , exp , \" is : \",  res)"
   ]
  },
  {
   "cell_type": "code",
   "execution_count": 5,
   "id": "1e305591",
   "metadata": {},
   "outputs": [
    {
     "name": "stdout",
     "output_type": "stream",
     "text": [
      "Enter Base     : 2\n",
      "Enter Exponent : 8\n",
      "2  ^  8  is :  256\n"
     ]
    }
   ],
   "source": [
    "def Power(base, exp):\n",
    "    pow = 1\n",
    "    i = 1\n",
    "    while (i <= exp):\n",
    "        pow = pow * base\n",
    "        i = i + 1\n",
    "    return pow\n",
    "\n",
    "base = int(input(\"Enter Base     : \"))\n",
    "exp  = int(input(\"Enter Exponent : \"))\n",
    "res = Power(base, exp)\n",
    "\n",
    "print(base , \" ^ \"  , exp , \" is : \",  res)"
   ]
  }
 ],
 "metadata": {
  "kernelspec": {
   "display_name": "Python 3 (ipykernel)",
   "language": "python",
   "name": "python3"
  },
  "language_info": {
   "codemirror_mode": {
    "name": "ipython",
    "version": 3
   },
   "file_extension": ".py",
   "mimetype": "text/x-python",
   "name": "python",
   "nbconvert_exporter": "python",
   "pygments_lexer": "ipython3",
   "version": "3.9.13"
  }
 },
 "nbformat": 4,
 "nbformat_minor": 5
}
