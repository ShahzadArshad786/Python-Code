{
 "cells": [
  {
   "cell_type": "markdown",
   "id": "2db9b3e8",
   "metadata": {},
   "source": [
    "#### If the ages of Ram, Shyam and Ajay are input through the keyboard, write a program to determine the youngest of the three. "
   ]
  },
  {
   "cell_type": "code",
   "execution_count": null,
   "id": "cbf8f417",
   "metadata": {},
   "outputs": [],
   "source": [
    "age1 = int(input(\"Enter the Age of Ram :\"))\n",
    "age2 = int(input(\"Enter the Age of Shyam :\"))\n",
    "age3 = int(input(\"Enter the Age of Ajay :\"))\n",
    "if(age1<age2 and age1<age3):\n",
    "    print(\"The Youngest Age is Ram\")\n",
    "elif(age2<age1 and age2<age3):\n",
    "    print(\"The Youngest Age is Shyam\")\n",
    "else:\n",
    "    print(\"The Youngest Age is Ajay\")"
   ]
  },
  {
   "cell_type": "markdown",
   "id": "12c65cdf",
   "metadata": {},
   "source": [
    "#### Write a program to check whether a triangle is valid or not, when the three angles of the triangle are entered through the keyboard. A triangle is valid if the sum of all the three angles is equal to 180 degrees."
   ]
  },
  {
   "cell_type": "code",
   "execution_count": null,
   "id": "6ec31a8a",
   "metadata": {},
   "outputs": [],
   "source": [
    "s1 = int(input(\"Enter the Triangle Side-1 :\"))\n",
    "s2 = int(input(\"Enter the Triangle Side-2 :\"))\n",
    "s3 = int(input(\"Enter the Triangle Side-3 :\"))\n",
    "sum = s1+s2+s3\n",
    "if(sum==180):\n",
    "    print(\"Triangle is Valid\")\n",
    "else:\n",
    "    print(\"Triangle is Not Valid\")"
   ]
  },
  {
   "cell_type": "markdown",
   "id": "ef1b6c50",
   "metadata": {},
   "source": [
    "#### Write a program to check the entered character is capital letter, small letter, or None. "
   ]
  },
  {
   "cell_type": "code",
   "execution_count": null,
   "id": "9a405d27",
   "metadata": {},
   "outputs": [],
   "source": [
    "ch = input(\"Please Enter any  Character :  = \")\n",
    "\n",
    "if(ch.isupper()):\n",
    "    print(\"The Given Character \", ch, \"is an Capital Letter\")\n",
    "elif(ch.islower()):\n",
    "    print(\"The Given Character \", ch, \"is a Small Letter\")\n",
    "else:\n",
    "    print(\"The Given Character \", ch, \"Non\")"
   ]
  },
  {
   "cell_type": "markdown",
   "id": "589801b7",
   "metadata": {},
   "source": [
    "#### Write a program in Python to make a simple calculator to calculate the addition, subtraction, multiplication, and division of two numbers. Take two numbers as input from the user. "
   ]
  },
  {
   "cell_type": "code",
   "execution_count": null,
   "id": "7b6c0686",
   "metadata": {},
   "outputs": [],
   "source": [
    "# Python Program to build a Simple Calculator using Nested If\n",
    "opr = input('Please enter an operator [+, -, *, or /]: ')\n",
    "print(\"Enter two numbers: \")\n",
    "num1 = int(input())\n",
    "num2 = int(input())\n",
    "\n",
    "if opr == '+': \n",
    "    res = num1 + num2\n",
    "    print(\"Result = \", res)\n",
    "\n",
    "elif opr == '-': \n",
    "    if(num1 > num2):\n",
    "        res = num1 - num2\n",
    "    else:\n",
    "            res = num2 - num1\n",
    "            print(\"Result = \", res)\n",
    "\n",
    "elif opr == '*': \n",
    "    res = num1 * num2\n",
    "    print(\"Result = \", res)\n",
    "\n",
    "elif opr == '/': \n",
    "    res = num1 / num2\n",
    "    print(\"Result = \", res)\n",
    "\n",
    "elif opr == '%': \n",
    "    res = num1 % num2\n",
    "    print(\"Result = \", res)\n",
    "\n",
    "elif opr == 5:\n",
    "     exit()\n",
    "else:\n",
    "    print(\"Wrong input..!!\")"
   ]
  },
  {
   "cell_type": "markdown",
   "id": "b2b4a932",
   "metadata": {},
   "source": [
    "#### Program to find absolute value of a number in python.  "
   ]
  },
  {
   "cell_type": "code",
   "execution_count": null,
   "id": "0156c919",
   "metadata": {},
   "outputs": [],
   "source": [
    "n = input(\"Enter the value \")\n",
    "absolute = abs(int(n))\n",
    "print(\"\\nThe absolute value of the number is \", absolute)"
   ]
  },
  {
   "cell_type": "markdown",
   "id": "6cd814db",
   "metadata": {},
   "source": [
    "#### Write a program to input the length and breadth of a rectangle and find its area and perimeter. \n",
    "#### Area of a rectangle = length * breadth \n",
    "#### Perimeter of a rectangle = 2 * (length + breadth) "
   ]
  },
  {
   "cell_type": "code",
   "execution_count": null,
   "id": "f1ca22b3",
   "metadata": {},
   "outputs": [],
   "source": [
    "l = float(input('Please Enter the Length of a Rectangle: '))\n",
    "b = float(input('Please Enter the Breath of a Rectangle: '))\n",
    " \n",
    "# calculate the area\n",
    "Area = l * b\n",
    " \n",
    "# calculate the Perimeter\n",
    "Perimeter = 2 * (l + b)\n",
    " \n",
    "print(\"\\n Area of a Rectangle is: %.2f\" %Area)\n",
    "print(\" Perimeter of Rectangle is: %.2f\" %Perimeter)\n",
    "\n",
    "if(Area > Perimeter):\n",
    "    print(\"Area greater than its Perimeter\")"
   ]
  },
  {
   "cell_type": "markdown",
   "id": "a1aef94c",
   "metadata": {},
   "source": [
    "#### Given the coordinates(x, y) of center of a circle and its radius, write a python program that will determine whether a point(x, y) lies inside the Circle, on the Circle or outside the Circle. (Hint: Use sqrt() and pow() functions) "
   ]
  },
  {
   "cell_type": "code",
   "execution_count": null,
   "id": "e7c56cf1",
   "metadata": {},
   "outputs": [],
   "source": [
    "import math \n",
    "print(\"Enter the center co-ordinates of the circle: \")\n",
    "x1 = int(input())\n",
    "y1 = int(input())\n",
    "\n",
    "radius = int(input(\"Enter Radius : = \"))\n",
    "\n",
    "print(\"Enter the center co-ordinates of the circle: \")\n",
    "x2 = int(input())\n",
    "y2 = int(input())\n",
    "    \n",
    "pc = math.sqrt(pow(x2-x1 , 2) + pow(y2-y1 , 2))\n",
    "\n",
    "if(pc>radius):\n",
    "        print(\"Point (\"  , x2 , \" ,\" , y2, \") lies outside the circle.\")\n",
    "        \n",
    "elif(pc<radius):\n",
    "        print(\"Point (\"  , x2 , \" ,\" , y2, \") lies inside the circle.\")\n",
    "    \n",
    "elif(pc==radius):\n",
    "       print(\"Point (\" , x2 , \" ,\" , y2, \") lies on the circle.\")\n",
    "        \n",
    "else:\n",
    "        print(\"Wrong Entry\")"
   ]
  },
  {
   "cell_type": "markdown",
   "id": "3a23136f",
   "metadata": {},
   "source": [
    "#### Given a point (x, y), write a python program to find out if it lies on the x-axis, y-axis or on the origin(0, 0). "
   ]
  },
  {
   "cell_type": "code",
   "execution_count": null,
   "id": "eaf563e9",
   "metadata": {},
   "outputs": [],
   "source": [
    "import math\n",
    "\n",
    "print(\"Enter the  co-ordinates of Point : \")\n",
    "x = int(input())\n",
    "y = int(input())\n",
    "\n",
    "if(x == 0 and  y!=0):\n",
    "    print(\"Point (\" , x , \" ,\" , y, \") lies on the y-axis \")\n",
    "    \n",
    "elif (x != 0 and y == 0):\n",
    "    print(\"Point (\" , x , \" ,\" , y, \") lies on the x-axis \")\n",
    "    \n",
    "elif (x == 0 and y == 0):\n",
    "    print(\"Point (\" , x , \" ,\" , y, \") lies on the origin \")\n",
    "    \n",
    "else:\n",
    "    print(\"Point (\" , x , \" ,\" , y, \") neither lie on x-axis nor on y-axis \")\n",
    "    "
   ]
  },
  {
   "cell_type": "markdown",
   "id": "868eb5b5",
   "metadata": {},
   "source": [
    "####  Python Program to Check Character is Uppercase, Lowercase, Digit, or Special Character. "
   ]
  },
  {
   "cell_type": "code",
   "execution_count": null,
   "id": "15814ea3",
   "metadata": {},
   "outputs": [],
   "source": [
    "ch = input(\"Enter a character :  \")\n",
    "\n",
    "if (ord(ch)>=65 and ord(ch)<=90):\n",
    "    print(\"Character is a capital letter\")\n",
    "    \n",
    "elif (ord(ch)>=97 and ord(ch)<=122):\n",
    "    \n",
    "    print(\"Character is a small letter\")\n",
    "elif (ord(ch)>=48 and ord(ch)<=57):\n",
    "    print(\"Character is a digit\")\n",
    "    \n",
    "elif ((ord(ch)>0 and ord(ch)<=47) or (ord(ch)>=58 and ord(ch)<=64) or\n",
    "      (ord(ch)>=91 and ord(ch)<=96) or (ord(ch)>=123 and ord(ch)<=127)):\n",
    "    print(\"Character is a special symbol\")"
   ]
  }
 ],
 "metadata": {
  "kernelspec": {
   "display_name": "Python 3 (ipykernel)",
   "language": "python",
   "name": "python3"
  },
  "language_info": {
   "codemirror_mode": {
    "name": "ipython",
    "version": 3
   },
   "file_extension": ".py",
   "mimetype": "text/x-python",
   "name": "python",
   "nbconvert_exporter": "python",
   "pygments_lexer": "ipython3",
   "version": "3.9.13"
  }
 },
 "nbformat": 4,
 "nbformat_minor": 5
}
