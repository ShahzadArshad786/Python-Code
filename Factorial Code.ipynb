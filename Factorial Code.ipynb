{
 "cells": [
  {
   "cell_type": "markdown",
   "id": "85f2ea51",
   "metadata": {},
   "source": [
    "#### Write a Python program that inputs an positive integer and prints its factorial using for loop. "
   ]
  },
  {
   "cell_type": "code",
   "execution_count": 1,
   "id": "b5542e75",
   "metadata": {},
   "outputs": [
    {
     "name": "stdout",
     "output_type": "stream",
     "text": [
      "\n",
      "Enter an positive integer number: = 7\n",
      "\n",
      "Factorial of  7  is : =  5040\n"
     ]
    }
   ],
   "source": [
    "num = int(input(\"\\nEnter an positive integer number: = \"))\n",
    "\n",
    "fact = 1 \n",
    "for i in range(1, num + 1):\n",
    "    fact = fact * i\n",
    "\n",
    "print(\"\\nFactorial of \", num , \" is : = \", fact)"
   ]
  },
  {
   "cell_type": "markdown",
   "id": "f33efa00",
   "metadata": {},
   "source": [
    "#### Write a Python program that inputs an positive integer and prints its factorial using while loop."
   ]
  },
  {
   "cell_type": "code",
   "execution_count": 2,
   "id": "086a6674",
   "metadata": {},
   "outputs": [
    {
     "name": "stdout",
     "output_type": "stream",
     "text": [
      "\n",
      "Enter an positive integer number: = 6\n",
      "\n",
      "Factorial of  6  is : =  720\n"
     ]
    }
   ],
   "source": [
    "num = int(input(\"\\nEnter an positive integer number: = \"))\n",
    "i = 1 \n",
    "fact = 1 \n",
    "while (i <= num ):\n",
    "    fact = fact * i \n",
    "    i = i + 1 \n",
    "\n",
    "print(\"\\nFactorial of \", num , \" is : = \", fact)"
   ]
  },
  {
   "cell_type": "markdown",
   "id": "0c5fb097",
   "metadata": {},
   "source": [
    "#### Write a Python program that inputs an positive integer and prints its factorial using builtin function. "
   ]
  },
  {
   "cell_type": "code",
   "execution_count": 3,
   "id": "c10f50d1",
   "metadata": {},
   "outputs": [
    {
     "name": "stdout",
     "output_type": "stream",
     "text": [
      "\n",
      "Enter an positive integer number: = 8\n",
      "\n",
      "Factorial of  8  is : =  40320\n"
     ]
    }
   ],
   "source": [
    "import math\n",
    "num = int(input(\"\\nEnter an positive integer number: = \"))\n",
    "\n",
    "fact = math.factorial(num)\n",
    "  \n",
    "print(\"\\nFactorial of \", num , \" is : = \", fact)"
   ]
  }
 ],
 "metadata": {
  "kernelspec": {
   "display_name": "Python 3 (ipykernel)",
   "language": "python",
   "name": "python3"
  },
  "language_info": {
   "codemirror_mode": {
    "name": "ipython",
    "version": 3
   },
   "file_extension": ".py",
   "mimetype": "text/x-python",
   "name": "python",
   "nbconvert_exporter": "python",
   "pygments_lexer": "ipython3",
   "version": "3.9.13"
  }
 },
 "nbformat": 4,
 "nbformat_minor": 5
}
