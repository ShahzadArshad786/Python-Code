{
 "cells": [
  {
   "cell_type": "markdown",
   "id": "b37db026",
   "metadata": {},
   "source": [
    "#### Write a Python program that inputs a lower and higher limit and print all Even Numbers between range using for loop. "
   ]
  },
  {
   "cell_type": "code",
   "execution_count": 2,
   "id": "a095b139",
   "metadata": {},
   "outputs": [
    {
     "name": "stdout",
     "output_type": "stream",
     "text": [
      "Enter a Lower Limit  : 15\n",
      "Enter a Higher Limit : 50\n",
      "\n",
      "Even Numbers Between  15  to  50  are : \n",
      "\n",
      "16 18 20 22 24 26 28 30 32 34 36 38 40 42 44 46 48 50 "
     ]
    }
   ],
   "source": [
    "s = int (input(\"Enter a Lower Limit  : \"))\n",
    "e = int (input(\"Enter a Higher Limit : \"))\n",
    "print()\n",
    "print (\"Even Numbers Between \",  s , \" to \" , e , \" are : \\n\")\n",
    "for i in range(s , e + 1 ):\n",
    "    if( i % 2 == 0):\n",
    "        print(i , end = \" \")"
   ]
  },
  {
   "cell_type": "markdown",
   "id": "0365b8d7",
   "metadata": {},
   "source": [
    "#### Write a Python program that inputs a lower and higher limit and print all Even Numbers between range using while loop."
   ]
  },
  {
   "cell_type": "code",
   "execution_count": 4,
   "id": "a3eaab26",
   "metadata": {},
   "outputs": [
    {
     "name": "stdout",
     "output_type": "stream",
     "text": [
      "Enter a Lower Limit  : 10\n",
      "Enter a Higher Limit : 25\n",
      "\n",
      "Even Numbers Between  10  to  25  are : \n",
      "\n",
      "10 12 14 16 18 20 22 24 "
     ]
    }
   ],
   "source": [
    "s = int (input(\"Enter a Lower Limit  : \"))\n",
    "e = int (input(\"Enter a Higher Limit : \"))\n",
    "print()\n",
    "\n",
    "print (\"Even Numbers Between \",  s , \" to \" , e , \" are : \\n\")\n",
    "\n",
    "while(s <= e ):\n",
    "    if( s % 2 == 0):\n",
    "        print(s , end = \" \")\n",
    "    s = s + 1"
   ]
  },
  {
   "cell_type": "markdown",
   "id": "b1dd2139",
   "metadata": {},
   "source": [
    "#### Write a Python function that inputs a lower and higher limit and print all Even Numbers between range using while loop."
   ]
  },
  {
   "cell_type": "code",
   "execution_count": 6,
   "id": "2028bbcb",
   "metadata": {},
   "outputs": [
    {
     "name": "stdout",
     "output_type": "stream",
     "text": [
      "Enter a Lower Limit  : 11\n",
      "Enter a Higher Limit : 21\n",
      "\n",
      "Even Numbers Between  11  to  21  are : \n",
      "\n",
      "12 14 16 18 20 "
     ]
    }
   ],
   "source": [
    "def Even_Numbers(s , e):\n",
    "    print()\n",
    "    print (\"Even Numbers Between \",  s , \" to \" , e , \" are : \\n\")\n",
    "    \n",
    "    while(s <= e ):\n",
    "        if( s % 2 == 0):\n",
    "            print(s , end = \" \")\n",
    "        s = s + 1\n",
    "        \n",
    "s = int (input(\"Enter a Lower Limit  : \"))\n",
    "e = int (input(\"Enter a Higher Limit : \"))\n",
    "\n",
    "Even_Numbers(s , e)"
   ]
  }
 ],
 "metadata": {
  "kernelspec": {
   "display_name": "Python 3 (ipykernel)",
   "language": "python",
   "name": "python3"
  },
  "language_info": {
   "codemirror_mode": {
    "name": "ipython",
    "version": 3
   },
   "file_extension": ".py",
   "mimetype": "text/x-python",
   "name": "python",
   "nbconvert_exporter": "python",
   "pygments_lexer": "ipython3",
   "version": "3.9.13"
  }
 },
 "nbformat": 4,
 "nbformat_minor": 5
}
