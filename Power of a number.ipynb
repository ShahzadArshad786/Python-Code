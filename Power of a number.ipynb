{
 "cells": [
  {
   "cell_type": "markdown",
   "id": "80e8eab0",
   "metadata": {},
   "source": [
    "#### Write a Python Program which calculates the power of any number, by taking the values of base and exponent from the user using for loop. "
   ]
  },
  {
   "cell_type": "code",
   "execution_count": 1,
   "id": "15cfddeb",
   "metadata": {},
   "outputs": [
    {
     "name": "stdout",
     "output_type": "stream",
     "text": [
      "Enter an positive integer for Base      : = 2\n",
      "Enter an positive integer for Exponent  : = 8\n",
      "\n",
      " 2  ^  8  is =  256\n"
     ]
    }
   ],
   "source": [
    "result = 1 \n",
    "base  = int(input (\"Enter an positive integer for Base     : = \"))\n",
    "expo  = int (input(\"Enter an positive integer for Exponent : = \"))\n",
    "for i in range (1, expo + 1):\n",
    "    result  = result * base\n",
    "\n",
    "print(\"\\n\",  base , \" ^ \" , expo , \" is = \" , result)"
   ]
  },
  {
   "cell_type": "markdown",
   "id": "1f36feca",
   "metadata": {},
   "source": [
    "#### Write a Python Program which calculates the power of any number, by taking the values of base and exponent from the user using while loop."
   ]
  },
  {
   "cell_type": "code",
   "execution_count": 1,
   "id": "22ae4df3",
   "metadata": {},
   "outputs": [
    {
     "name": "stdout",
     "output_type": "stream",
     "text": [
      "Enter an positive integer for Base     : = 3\n",
      "Enter an positive integer for Exponent : = 4\n",
      "\n",
      "  3  ^  4  is =  81\n"
     ]
    }
   ],
   "source": [
    "i = 1\n",
    "result = 1 \n",
    "base  = int(input (\"Enter an positive integer for Base     : = \"))\n",
    "expo  = int (input(\"Enter an positive integer for Exponent : = \"))\n",
    "while(i <= expo):\n",
    "    result  = result * base\n",
    "    i = i + 1 \n",
    "\n",
    "print(\"\\n \" , base, \" ^ \" , expo , \" is = \" , result)"
   ]
  }
 ],
 "metadata": {
  "kernelspec": {
   "display_name": "Python 3 (ipykernel)",
   "language": "python",
   "name": "python3"
  },
  "language_info": {
   "codemirror_mode": {
    "name": "ipython",
    "version": 3
   },
   "file_extension": ".py",
   "mimetype": "text/x-python",
   "name": "python",
   "nbconvert_exporter": "python",
   "pygments_lexer": "ipython3",
   "version": "3.9.13"
  }
 },
 "nbformat": 4,
 "nbformat_minor": 5
}
