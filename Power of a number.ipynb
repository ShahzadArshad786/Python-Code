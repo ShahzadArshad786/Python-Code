{
 "cells": [
  {
   "cell_type": "code",
   "execution_count": 2,
   "id": "60ba2458",
   "metadata": {},
   "outputs": [
    {
     "name": "stdout",
     "output_type": "stream",
     "text": [
      "Enter an positive integer for Base          : = 2\n",
      "Enter an positive integer for exponent : = 5\n",
      "Power of 2 ^ 5  is =  32\n"
     ]
    }
   ],
   "source": [
    "result = 1 \n",
    "base  = int(input (\"Enter an positive integer for Base          : = \"))\n",
    "expo  = int (input(\"Enter an positive integer for exponent : = \"))\n",
    "for i in range (1, expo + 1):\n",
    "    result  = result * base\n",
    "\n",
    "print(\"Power of\" ,base, \"^\" , expo, \" is = \" , result)"
   ]
  }
 ],
 "metadata": {
  "kernelspec": {
   "display_name": "Python 3 (ipykernel)",
   "language": "python",
   "name": "python3"
  },
  "language_info": {
   "codemirror_mode": {
    "name": "ipython",
    "version": 3
   },
   "file_extension": ".py",
   "mimetype": "text/x-python",
   "name": "python",
   "nbconvert_exporter": "python",
   "pygments_lexer": "ipython3",
   "version": "3.9.13"
  }
 },
 "nbformat": 4,
 "nbformat_minor": 5
}
