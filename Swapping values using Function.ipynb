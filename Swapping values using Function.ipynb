{
 "cells": [
  {
   "cell_type": "code",
   "execution_count": 1,
   "id": "ab078000",
   "metadata": {},
   "outputs": [
    {
     "name": "stdout",
     "output_type": "stream",
     "text": [
      "Enter 1st Number : 10\n",
      "Enter 2nd Number : 20\n",
      "\n",
      "Value Before Swapping \n",
      "\n",
      "A :  10\n",
      "B :  20\n",
      "\n",
      "Value After Swapping \n",
      "\n",
      "A :  20\n",
      "B :  10\n"
     ]
    }
   ],
   "source": [
    "def Swapping( a , b ):\n",
    "    \n",
    "    temp = 0\n",
    "    print(\"\\nValue Before Swapping \\n\")\n",
    "    print(\"A : \" , a)\n",
    "    print(\"B : \" , b)\n",
    "\n",
    "\n",
    "    temp = a \n",
    "    a = b \n",
    "    b = temp\n",
    "    \n",
    "    print(\"\\nValue After Swapping \\n\")\n",
    "    print(\"A : \" , a)\n",
    "    print(\"B : \" , b)\n",
    "\n",
    "num1 = int(input(\"Enter 1st Number : \"))\n",
    "num2 = int(input(\"Enter 2nd Number : \"))\n",
    "\n",
    "Swapping(num1 , num2)"
   ]
  }
 ],
 "metadata": {
  "kernelspec": {
   "display_name": "Python 3 (ipykernel)",
   "language": "python",
   "name": "python3"
  },
  "language_info": {
   "codemirror_mode": {
    "name": "ipython",
    "version": 3
   },
   "file_extension": ".py",
   "mimetype": "text/x-python",
   "name": "python",
   "nbconvert_exporter": "python",
   "pygments_lexer": "ipython3",
   "version": "3.9.13"
  }
 },
 "nbformat": 4,
 "nbformat_minor": 5
}
