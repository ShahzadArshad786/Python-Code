{
 "cells": [
  {
   "cell_type": "code",
   "execution_count": null,
   "id": "a1b88562",
   "metadata": {},
   "outputs": [],
   "source": [
    "def Swapping( a , b ):\n",
    "    \n",
    "    temp = 0\n",
    "    print(\"\\nValue Before Swapping \\n\")\n",
    "    print(\"A : \" , a)\n",
    "    print(\"B : \" , b)\n",
    "\n",
    "\n",
    "    temp = a \n",
    "    a = b \n",
    "    b = temp\n",
    "    \n",
    "    print(\"\\nValue After Swapping \\n\")\n",
    "print(\"A : \" , a)\n",
    "print(\"B : \" , b)\n",
    "\n",
    "num1 = int(input(\"Enter 1st Number : \"))\n",
    "num2 = int(input(\"Enter 2nd Number : \"))\n",
    "\n",
    "Swapping(num1 , num2)"
   ]
  }
 ],
 "metadata": {
  "kernelspec": {
   "display_name": "Python 3 (ipykernel)",
   "language": "python",
   "name": "python3"
  },
  "language_info": {
   "codemirror_mode": {
    "name": "ipython",
    "version": 3
   },
   "file_extension": ".py",
   "mimetype": "text/x-python",
   "name": "python",
   "nbconvert_exporter": "python",
   "pygments_lexer": "ipython3",
   "version": "3.9.13"
  }
 },
 "nbformat": 4,
 "nbformat_minor": 5
}
