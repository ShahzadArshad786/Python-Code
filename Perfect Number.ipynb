{
 "cells": [
  {
   "cell_type": "code",
   "execution_count": 8,
   "id": "60b08d33",
   "metadata": {},
   "outputs": [
    {
     "name": "stdout",
     "output_type": "stream",
     "text": [
      "Enter Positive Number : 6\n",
      "6  is Perfect Number\n"
     ]
    }
   ],
   "source": [
    "num = int (input(\"Enter Positive Number : \"))\n",
    "\n",
    "s = 0 \n",
    "\n",
    "for i in range (1, num):\n",
    "    \n",
    "    if(num % i == 0):\n",
    "        s = s + i\n",
    "        \n",
    "        \n",
    "if(s == num):\n",
    "    \n",
    "    print(num, \" is Perfect Number\")\n",
    "    \n",
    "else: \n",
    "    \n",
    "    print(num, \" is not Perfect Number\")"
   ]
  },
  {
   "cell_type": "markdown",
   "id": "6547bc29",
   "metadata": {},
   "source": [
    "###### Print All Perfect Numbers Between Given Range"
   ]
  },
  {
   "cell_type": "code",
   "execution_count": 7,
   "id": "021dfce4",
   "metadata": {},
   "outputs": [
    {
     "name": "stdout",
     "output_type": "stream",
     "text": [
      "Enter Starting Number : 1\n",
      "Enter Ending Number   : 10000\n",
      "\n",
      " 6 is Perfect Number\n",
      "\n",
      " 28 is Perfect Number\n",
      "\n",
      " 496 is Perfect Number\n",
      "\n",
      " 8128 is Perfect Number\n"
     ]
    }
   ],
   "source": [
    "start = int (input(\"Enter Starting Number : \"))\n",
    "end   = int (input(\"Enter Ending Number   : \"))\n",
    "\n",
    "for num in range(start, end+1):\n",
    "    s = 0 \n",
    "    for i in range(1, num):\n",
    "        \n",
    "        if(num % i) == 0:\n",
    "            s = s + i\n",
    "    if(s == num):\n",
    "        print(\"\\n\", num, \"is Perfect Number\")\n",
    "    "
   ]
  }
 ],
 "metadata": {
  "kernelspec": {
   "display_name": "Python 3 (ipykernel)",
   "language": "python",
   "name": "python3"
  },
  "language_info": {
   "codemirror_mode": {
    "name": "ipython",
    "version": 3
   },
   "file_extension": ".py",
   "mimetype": "text/x-python",
   "name": "python",
   "nbconvert_exporter": "python",
   "pygments_lexer": "ipython3",
   "version": "3.9.13"
  }
 },
 "nbformat": 4,
 "nbformat_minor": 5
}
