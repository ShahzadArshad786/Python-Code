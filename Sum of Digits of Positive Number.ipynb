{
 "cells": [
  {
   "cell_type": "markdown",
   "id": "ff459cb0",
   "metadata": {},
   "source": [
    "#### Write a Python program that inputs an integer and displays the sum of its digits. For example the program should display 9 if user enters 135. "
   ]
  },
  {
   "cell_type": "code",
   "execution_count": 11,
   "id": "ea04e411",
   "metadata": {},
   "outputs": [
    {
     "name": "stdout",
     "output_type": "stream",
     "text": [
      "Enter Any Positive Integer : 1234\n",
      "\n",
      "Sum of 1234 Digits is :  10\n"
     ]
    }
   ],
   "source": [
    "num = int(input(\"Enter Any Positive Integer : \"))\n",
    "\n",
    "s = 1 \n",
    "n = num \n",
    "sum = 0\n",
    "\n",
    "while( num != 0):\n",
    "    digit = num % 10\n",
    "    sum = sum + digit \n",
    "    num = num // 10\n",
    "print()\n",
    "print(\"Sum of\", n , \"Digits is : \", sum )"
   ]
  },
  {
   "cell_type": "markdown",
   "id": "0406a874",
   "metadata": {},
   "source": [
    "#### Write a Python function that inputs an integer and displays the sum of its digits. For example the program should display 9 if user enters 135."
   ]
  },
  {
   "cell_type": "code",
   "execution_count": 12,
   "id": "4a7e0ac0",
   "metadata": {},
   "outputs": [
    {
     "name": "stdout",
     "output_type": "stream",
     "text": [
      "Enter Any Positive Integer : 12345\n",
      "\n",
      "Sum of 12345 Digits is :  15\n"
     ]
    }
   ],
   "source": [
    "def Sum_of_Digits(num):\n",
    "    \n",
    "    s = 1 \n",
    "    sum = 0\n",
    "\n",
    "    while( num != 0):\n",
    "        digit = num % 10\n",
    "        sum = sum + digit \n",
    "        num = num // 10\n",
    "    return sum\n",
    "\n",
    "\n",
    "num = int(input(\"Enter Any Positive Integer : \"))\n",
    "s = Sum_of_Digits(num)\n",
    "print()\n",
    "print(\"Sum of\", num , \"Digits is : \", s )\n",
    "    "
   ]
  }
 ],
 "metadata": {
  "kernelspec": {
   "display_name": "Python 3 (ipykernel)",
   "language": "python",
   "name": "python3"
  },
  "language_info": {
   "codemirror_mode": {
    "name": "ipython",
    "version": 3
   },
   "file_extension": ".py",
   "mimetype": "text/x-python",
   "name": "python",
   "nbconvert_exporter": "python",
   "pygments_lexer": "ipython3",
   "version": "3.9.13"
  }
 },
 "nbformat": 4,
 "nbformat_minor": 5
}
