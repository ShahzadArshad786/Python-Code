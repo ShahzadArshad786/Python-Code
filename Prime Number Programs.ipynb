{
 "cells": [
  {
   "cell_type": "markdown",
   "id": "1d6c3a28",
   "metadata": {},
   "source": [
    "#### Write a Python program that inputs any positive number and prints whether it is a Prime Number or not using for loop. "
   ]
  },
  {
   "cell_type": "code",
   "execution_count": 7,
   "id": "a8c4b02b",
   "metadata": {},
   "outputs": [
    {
     "name": "stdout",
     "output_type": "stream",
     "text": [
      "Enter Positive Number : 31\n",
      "\n",
      " 31  is a Prime Number\n"
     ]
    }
   ],
   "source": [
    "num = int (input(\"Enter Positive Number : \"))\n",
    "\n",
    "factor = 0 \n",
    "\n",
    "for i in range (1, num+1):\n",
    "    \n",
    "    if(num % i == 0):\n",
    "        factor = factor + 1\n",
    "        \n",
    "        \n",
    "if(factor == 2):\n",
    "    \n",
    "    print(\"\\n\" , num, \" is a Prime Number\")\n",
    "    \n",
    "else: \n",
    "    \n",
    "    print( \"\\n\" , num, \" is not a Prime Number\")"
   ]
  },
  {
   "cell_type": "markdown",
   "id": "68d6e56c",
   "metadata": {},
   "source": [
    "#### Write a Python program that inputs any positive number and prints whether it is a Prime Number or not using while loop."
   ]
  },
  {
   "cell_type": "code",
   "execution_count": 12,
   "id": "cc27b883",
   "metadata": {},
   "outputs": [
    {
     "name": "stdout",
     "output_type": "stream",
     "text": [
      "Enter Positive Number : 14\n",
      "\n",
      " 14  is not a Prime Number\n"
     ]
    }
   ],
   "source": [
    "num = int (input(\"Enter Positive Number : \"))\n",
    "\n",
    "factor = 0 \n",
    "s = 1\n",
    "while(s <= num):\n",
    "    \n",
    "    if(num % s == 0):\n",
    "        factor = factor + 1\n",
    "    s = s + 1\n",
    "                \n",
    "if(factor == 2):\n",
    "    \n",
    "    print(\"\\n\" , num, \" is a Prime Number\")\n",
    "    \n",
    "else: \n",
    "    \n",
    "    print( \"\\n\" , num, \" is not a Prime Number\")"
   ]
  },
  {
   "cell_type": "markdown",
   "id": "7095794d",
   "metadata": {},
   "source": [
    "#### Write a Python function that inputs any positive number and prints whether it is a Prime or not using for loop."
   ]
  },
  {
   "cell_type": "code",
   "execution_count": 15,
   "id": "d19056f3",
   "metadata": {},
   "outputs": [
    {
     "name": "stdout",
     "output_type": "stream",
     "text": [
      "Enter Positive Number : 19\n",
      "\n",
      " 19  is a Prime Number\n"
     ]
    }
   ],
   "source": [
    "def Prime_Number(n):\n",
    "    factor = 0 \n",
    "    for i in range (1, num+1):\n",
    "        if(num % i == 0):\n",
    "            factor = factor + 1\n",
    "    if(factor == 2):\n",
    "        \n",
    "        print(\"\\n\" , num, \" is a Prime Number\")\n",
    "        \n",
    "    else: \n",
    "    \n",
    "        print(\"\\n\" , num, \" is not a Prime Number\")\n",
    "    \n",
    "num = int (input(\"Enter Positive Number : \"))\n",
    "Prime_Number(num)"
   ]
  },
  {
   "cell_type": "markdown",
   "id": "db644241",
   "metadata": {},
   "source": [
    "#### Write a Python Program to print all Prime numbers in a given range. "
   ]
  },
  {
   "cell_type": "code",
   "execution_count": 22,
   "id": "e465c483",
   "metadata": {},
   "outputs": [
    {
     "name": "stdout",
     "output_type": "stream",
     "text": [
      "Enter Starting Number : 6\n",
      "Enter Ending Number   : 50\n",
      "\n",
      "Prime Numbers Between  6  and  50  are : \n",
      "\n",
      "7 11 13 17 19 23 29 31 37 41 43 47 "
     ]
    }
   ],
   "source": [
    "start = int (input(\"Enter Starting Number : \"))\n",
    "end   = int (input(\"Enter Ending Number   : \"))\n",
    "\n",
    "print(\"\\nPrime Numbers Between \" , start , \" and \" , end , \" are : \\n\")\n",
    "for i in range(start, end+1):\n",
    "    count = 0 \n",
    "    for j in range(1, i+1):\n",
    "        \n",
    "        if(i % j) == 0:\n",
    "            count = count + 1\n",
    "            \n",
    "    if(count == 2):\n",
    "        print(i , end = \" \")"
   ]
  }
 ],
 "metadata": {
  "kernelspec": {
   "display_name": "Python 3 (ipykernel)",
   "language": "python",
   "name": "python3"
  },
  "language_info": {
   "codemirror_mode": {
    "name": "ipython",
    "version": 3
   },
   "file_extension": ".py",
   "mimetype": "text/x-python",
   "name": "python",
   "nbconvert_exporter": "python",
   "pygments_lexer": "ipython3",
   "version": "3.9.13"
  }
 },
 "nbformat": 4,
 "nbformat_minor": 5
}
