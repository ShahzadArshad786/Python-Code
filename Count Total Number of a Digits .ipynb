{
 "cells": [
  {
   "cell_type": "markdown",
   "id": "8ec6573b",
   "metadata": {},
   "source": [
    "#### Write a Python program to inputs an integer and count the total number of digits in a integer using while loop. "
   ]
  },
  {
   "cell_type": "code",
   "execution_count": 1,
   "id": "fa420e7a",
   "metadata": {},
   "outputs": [
    {
     "name": "stdout",
     "output_type": "stream",
     "text": [
      "Enter Any Positive Number : 12345\n",
      "\n",
      "Total Digits of a Number  12345  are :  5\n"
     ]
    }
   ],
   "source": [
    "num = int(input(\"Enter Any Positive Number : \"))\n",
    "\n",
    "count = 0 \n",
    "n = num \n",
    "\n",
    "while n != 0 :\n",
    "    \n",
    "    n = n // 10 \n",
    "    count = count + 1\n",
    "\n",
    "print(\"\\nTotal Digits of a Number \", num , \" are : \" , count)"
   ]
  },
  {
   "cell_type": "markdown",
   "id": "20a0b0fd",
   "metadata": {},
   "source": [
    "#### Write a Python function to inputs an integer and count the total number of digits in a integer using while loop. "
   ]
  },
  {
   "cell_type": "code",
   "execution_count": 2,
   "id": "1a0fc9ec",
   "metadata": {},
   "outputs": [
    {
     "name": "stdout",
     "output_type": "stream",
     "text": [
      "Enter Any Positive Number : 1209876\n",
      "\n",
      "Total Digits of a Number  1209876  are :  7\n"
     ]
    }
   ],
   "source": [
    "def count_Digits(num):\n",
    "    \n",
    "    count = 0 \n",
    "    n = num \n",
    "    \n",
    "    while n != 0 :\n",
    "        n = n // 10 \n",
    "        count = count + 1\n",
    "    return count\n",
    "\n",
    "num = int(input(\"Enter Any Positive Number : \"))\n",
    "res = count_Digits(num)\n",
    "print(\"\\nTotal Digits of a Number \", num , \" are : \" , res)"
   ]
  }
 ],
 "metadata": {
  "kernelspec": {
   "display_name": "Python 3 (ipykernel)",
   "language": "python",
   "name": "python3"
  },
  "language_info": {
   "codemirror_mode": {
    "name": "ipython",
    "version": 3
   },
   "file_extension": ".py",
   "mimetype": "text/x-python",
   "name": "python",
   "nbconvert_exporter": "python",
   "pygments_lexer": "ipython3",
   "version": "3.9.13"
  }
 },
 "nbformat": 4,
 "nbformat_minor": 5
}
