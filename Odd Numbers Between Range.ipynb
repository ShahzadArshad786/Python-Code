{
 "cells": [
  {
   "cell_type": "markdown",
   "id": "9f1a244d",
   "metadata": {},
   "source": [
    "#### Write a Python program that inputs a lower and higher limit and print all Odd Numbers between range using for loop."
   ]
  },
  {
   "cell_type": "code",
   "execution_count": 3,
   "id": "48423b38",
   "metadata": {},
   "outputs": [
    {
     "name": "stdout",
     "output_type": "stream",
     "text": [
      "Enter a Lower Limit  : 1\n",
      "Enter a Higher Limit : 15\n",
      "\n",
      "Odd Numbers Between  1  to  15  are : \n",
      "\n",
      "1 3 5 7 9 11 13 15 "
     ]
    }
   ],
   "source": [
    "s = int (input(\"Enter a Lower Limit  : \"))\n",
    "e = int (input(\"Enter a Higher Limit : \"))\n",
    "print()\n",
    "print (\"Odd Numbers Between \",  s , \" to \" , e , \" are : \\n\")\n",
    "for i in range(s , e + 1 ):\n",
    "    if( i % 2 != 0):\n",
    "        print(i , end = \" \")"
   ]
  },
  {
   "cell_type": "markdown",
   "id": "d3ce4f3c",
   "metadata": {},
   "source": [
    "#### Write a Python program that inputs a lower and higher limit and print all Odd Numbers between range using while loop."
   ]
  },
  {
   "cell_type": "code",
   "execution_count": 4,
   "id": "01f638a1",
   "metadata": {},
   "outputs": [
    {
     "name": "stdout",
     "output_type": "stream",
     "text": [
      "Enter a Lower Limit  : 10\n",
      "Enter a Higher Limit : 30\n",
      "\n",
      "Odd Numbers Between  10  to  30  are : \n",
      "\n",
      "11 13 15 17 19 21 23 25 27 29 "
     ]
    }
   ],
   "source": [
    "s = int (input(\"Enter a Lower Limit  : \"))\n",
    "e = int (input(\"Enter a Higher Limit : \"))\n",
    "print()\n",
    "\n",
    "print (\"Odd Numbers Between \",  s , \" to \" , e , \" are : \\n\")\n",
    "\n",
    "while(s <= e ):\n",
    "    if( s % 2 != 0):\n",
    "        print(s , end = \" \")\n",
    "    s = s + 1"
   ]
  },
  {
   "cell_type": "markdown",
   "id": "3419cae4",
   "metadata": {},
   "source": [
    "#### Write a Python function that inputs a lower and higher limit and print all Odd Numbers between range using while loop."
   ]
  },
  {
   "cell_type": "code",
   "execution_count": 5,
   "id": "b3b9ac56",
   "metadata": {},
   "outputs": [
    {
     "name": "stdout",
     "output_type": "stream",
     "text": [
      "Enter a Lower Limit  : 55\n",
      "Enter a Higher Limit : 85\n",
      "\n",
      "Odd Numbers Between  55  to  85  are : \n",
      "\n",
      "55 57 59 61 63 65 67 69 71 73 75 77 79 81 83 85 "
     ]
    }
   ],
   "source": [
    "def Odd_Numbers(s , e):\n",
    "    print()\n",
    "    print (\"Odd Numbers Between \",  s , \" to \" , e , \" are : \\n\")\n",
    "    \n",
    "    while(s <= e ):\n",
    "        if( s % 2 != 0):\n",
    "            print(s , end = \" \")\n",
    "        s = s + 1\n",
    "        \n",
    "s = int (input(\"Enter a Lower Limit  : \"))\n",
    "e = int (input(\"Enter a Higher Limit : \"))\n",
    "\n",
    "Odd_Numbers(s , e)"
   ]
  }
 ],
 "metadata": {
  "kernelspec": {
   "display_name": "Python 3 (ipykernel)",
   "language": "python",
   "name": "python3"
  },
  "language_info": {
   "codemirror_mode": {
    "name": "ipython",
    "version": 3
   },
   "file_extension": ".py",
   "mimetype": "text/x-python",
   "name": "python",
   "nbconvert_exporter": "python",
   "pygments_lexer": "ipython3",
   "version": "3.9.13"
  }
 },
 "nbformat": 4,
 "nbformat_minor": 5
}
