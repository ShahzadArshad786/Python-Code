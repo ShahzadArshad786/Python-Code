{
 "cells": [
  {
   "cell_type": "markdown",
   "id": "c07aaf35",
   "metadata": {},
   "source": [
    "###### Write a Python program that inputs radius of a circle and prints its Area and Circumference. "
   ]
  },
  {
   "cell_type": "code",
   "execution_count": 1,
   "id": "90ec8a31",
   "metadata": {},
   "outputs": [
    {
     "name": "stdout",
     "output_type": "stream",
     "text": [
      "Enter Radius of a Circle : 5\n",
      "\n",
      "Area of Circle          :  78.55\n",
      "\n",
      "Circumference of Circle :  31.42\n"
     ]
    }
   ],
   "source": [
    "# Input Radius of a Circle\n",
    "radius = float(input(\"Enter Radius of a Circle : \"))\n",
    "\n",
    "# Calculate Area of a Circle\n",
    "area = 3.142 * radius * radius\n",
    "\n",
    "# Calculate Circumference of a Circle\n",
    "cir  = 2 * 3.142 * radius \n",
    "\n",
    "# Display Area of a Circle\n",
    "print(\"\\nArea of Circle          : \" , round(area , 2))\n",
    "\n",
    "# Display Circumference of a Circle\n",
    "print(\"\\nCircumference of Circle : \" , round(cir , 2))"
   ]
  }
 ],
 "metadata": {
  "kernelspec": {
   "display_name": "Python 3 (ipykernel)",
   "language": "python",
   "name": "python3"
  },
  "language_info": {
   "codemirror_mode": {
    "name": "ipython",
    "version": 3
   },
   "file_extension": ".py",
   "mimetype": "text/x-python",
   "name": "python",
   "nbconvert_exporter": "python",
   "pygments_lexer": "ipython3",
   "version": "3.9.13"
  }
 },
 "nbformat": 4,
 "nbformat_minor": 5
}
