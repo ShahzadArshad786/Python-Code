{
 "cells": [
  {
   "cell_type": "code",
   "execution_count": 16,
   "id": "65bbfb90",
   "metadata": {},
   "outputs": [
    {
     "name": "stdout",
     "output_type": "stream",
     "text": [
      "Enter Radius of the Circle : 5\n",
      "\n",
      "Area :  78.55\n",
      "\n",
      "Circumference :  31.42\n"
     ]
    }
   ],
   "source": [
    "radius = float(input(\"Enter Radius of the Circle : \"))\n",
    "\n",
    "area = 3.142 * radius * radius\n",
    "cir  = 2 * 3.142 * radius \n",
    "\n",
    "print(\"\\nArea : \" , round(area , 2))\n",
    "print(\"\\nCircumference : \" , round(cir , 2))"
   ]
  }
 ],
 "metadata": {
  "kernelspec": {
   "display_name": "Python 3 (ipykernel)",
   "language": "python",
   "name": "python3"
  },
  "language_info": {
   "codemirror_mode": {
    "name": "ipython",
    "version": 3
   },
   "file_extension": ".py",
   "mimetype": "text/x-python",
   "name": "python",
   "nbconvert_exporter": "python",
   "pygments_lexer": "ipython3",
   "version": "3.9.13"
  }
 },
 "nbformat": 4,
 "nbformat_minor": 5
}
