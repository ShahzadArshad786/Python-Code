{
 "cells": [
  {
   "cell_type": "markdown",
   "id": "4290ee25",
   "metadata": {},
   "source": [
    "####  Write a Python program that inputs a five digit number and prints the number in reverse order. If user enter 12345 it should print 54321. "
   ]
  },
  {
   "cell_type": "code",
   "execution_count": 2,
   "id": "f0bc9618",
   "metadata": {},
   "outputs": [
    {
     "name": "stdout",
     "output_type": "stream",
     "text": [
      "Enter an interger number : 12345\n",
      "\n",
      "Original Number is :  12345\n",
      "\n",
      "Reverse Number is  :  5 4 3 2 1\n"
     ]
    }
   ],
   "source": [
    "num = int(input (\"Enter an interger number : \"))\n",
    "\n",
    "if num < 10000 or num > 99999:\n",
    "    print(\"Number is invalid\")\n",
    "else:\n",
    "        a = num // 10000;\n",
    "        a1 = num % 10000;\n",
    "        \n",
    "        b= a1 // 1000;\n",
    "        b1 = a1 % 1000;\n",
    "        \n",
    "        c = b1 // 100;\n",
    "        c1 = b1 % 100;\n",
    "        \n",
    "        d = c1  //  10;\n",
    "        e  = c1 % 10;\n",
    "print(\"\\nOriginal Number is : \" , num)\n",
    "print(\"\\nReverse Number is  : \" , e,d,c,b,a)"
   ]
  },
  {
   "cell_type": "markdown",
   "id": "caca4977",
   "metadata": {},
   "source": [
    "#### Write a Python program that inputs a 3-Digits number and prints the number in reverse order. If user enter 123 it should print 321. "
   ]
  },
  {
   "cell_type": "code",
   "execution_count": 3,
   "id": "ecbb8306",
   "metadata": {},
   "outputs": [
    {
     "name": "stdout",
     "output_type": "stream",
     "text": [
      "Enter an interger number : 123\n",
      "\n",
      "Original Number is :  123\n",
      "\n",
      "Reverse Number is  :  3 2 1\n"
     ]
    }
   ],
   "source": [
    "num = int(input (\"Enter an interger number : \"))\n",
    "\n",
    "if num < 100 or num > 999:\n",
    "    print(\"Number is invalid\")\n",
    "else:\n",
    "        a = num // 100;\n",
    "        a1 = num % 100;\n",
    "        \n",
    "        b= a1 // 10;\n",
    "        c = a1 % 10;\n",
    "        \n",
    "print(\"\\nOriginal Number is : \" , num)\n",
    "print(\"\\nReverse Number is  : \" , c,b,a)"
   ]
  }
 ],
 "metadata": {
  "kernelspec": {
   "display_name": "Python 3 (ipykernel)",
   "language": "python",
   "name": "python3"
  },
  "language_info": {
   "codemirror_mode": {
    "name": "ipython",
    "version": 3
   },
   "file_extension": ".py",
   "mimetype": "text/x-python",
   "name": "python",
   "nbconvert_exporter": "python",
   "pygments_lexer": "ipython3",
   "version": "3.9.13"
  }
 },
 "nbformat": 4,
 "nbformat_minor": 5
}
