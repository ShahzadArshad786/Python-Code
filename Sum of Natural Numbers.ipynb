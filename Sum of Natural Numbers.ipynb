{
 "cells": [
  {
   "cell_type": "markdown",
   "id": "d1afdc36",
   "metadata": {},
   "source": [
    "#### Write a Python program that input Maximum limit and print sum of all Natural numbers from 1 to limit using for loop. "
   ]
  },
  {
   "cell_type": "code",
   "execution_count": 9,
   "id": "d77d9c5d",
   "metadata": {},
   "outputs": [
    {
     "name": "stdout",
     "output_type": "stream",
     "text": [
      "Enter the Limit : 10\n",
      "\n",
      "Sum of Natural Numbers From  1  to  10  is :  55\n"
     ]
    }
   ],
   "source": [
    "num = int (input(\"Enter the Limit : \"))\n",
    "\n",
    "sum = 0 \n",
    "\n",
    "for i in range(1, num + 1):\n",
    "    sum = sum + i \n",
    "    \n",
    "print(\"\\nSum of Natural Numbers From  1  to \" , num , \" is : \" , sum )"
   ]
  },
  {
   "cell_type": "markdown",
   "id": "bc262561",
   "metadata": {},
   "source": [
    "#### Write a Python program that input Maximum limit and print sum of all Natural numbers from 1 to limit using while loop. "
   ]
  },
  {
   "cell_type": "code",
   "execution_count": 8,
   "id": "3fa96a15",
   "metadata": {},
   "outputs": [
    {
     "name": "stdout",
     "output_type": "stream",
     "text": [
      "Enter the Limit : 15\n",
      "\n",
      "Sum of Natural Numbers From  1  to  15  is :  120\n"
     ]
    }
   ],
   "source": [
    "num = int (input(\"Enter the Limit : \"))\n",
    "\n",
    "sum = 0 \n",
    "s = 1 \n",
    "while( s <= num ):\n",
    "    sum = sum + s\n",
    "    s = s + 1\n",
    "    \n",
    "print(\"\\nSum of Natural Numbers From  1  to \" , num , \" is : \" , sum )"
   ]
  },
  {
   "cell_type": "markdown",
   "id": "432c1733",
   "metadata": {},
   "source": [
    "#### Write a Python function that input Maximum limit and print sum of all Natural numbers from 1 to limit using while loop."
   ]
  },
  {
   "cell_type": "code",
   "execution_count": 16,
   "id": "bcc553f0",
   "metadata": {},
   "outputs": [
    {
     "name": "stdout",
     "output_type": "stream",
     "text": [
      "Enter the Limit : 15\n",
      "\n",
      "Sum of Natural Numbers From  1  to  15  is :  120\n"
     ]
    }
   ],
   "source": [
    "def Sum_Natural_Numbers(n):\n",
    "    \n",
    "    sum = 0 \n",
    "    s = 1 \n",
    "    \n",
    "    while( s <= num ):\n",
    "        sum = sum + s\n",
    "        s = s + 1\n",
    "    return sum \n",
    "      \n",
    "num = int (input(\"Enter the Limit : \"))  \n",
    "res = Sum_Natural_Numbers(num)\n",
    "\n",
    "print(\"\\nSum of Natural Numbers From  1  to \" , num , \" is : \" , res )"
   ]
  }
 ],
 "metadata": {
  "kernelspec": {
   "display_name": "Python 3 (ipykernel)",
   "language": "python",
   "name": "python3"
  },
  "language_info": {
   "codemirror_mode": {
    "name": "ipython",
    "version": 3
   },
   "file_extension": ".py",
   "mimetype": "text/x-python",
   "name": "python",
   "nbconvert_exporter": "python",
   "pygments_lexer": "ipython3",
   "version": "3.9.13"
  }
 },
 "nbformat": 4,
 "nbformat_minor": 5
}
