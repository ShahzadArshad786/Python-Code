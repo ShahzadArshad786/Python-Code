{
 "cells": [
  {
   "cell_type": "markdown",
   "id": "9dad6761",
   "metadata": {},
   "source": [
    "#### Write a Python program to input an array from user and  print original array and reverse of an array. "
   ]
  },
  {
   "cell_type": "code",
   "execution_count": 11,
   "id": "5f475e44",
   "metadata": {},
   "outputs": [
    {
     "name": "stdout",
     "output_type": "stream",
     "text": [
      "Enter Size of Array : 5\n",
      "10\n",
      "20\n",
      "30\n",
      "40\n",
      "50\n",
      "\n",
      "Original Array is :  10 20 30 40 50 \n",
      "\n",
      "Reverse Array is  :  50 40 30 20 10 "
     ]
    }
   ],
   "source": [
    "import numpy as np \n",
    "arr = []\n",
    "num  = int(input(\"Enter Size of Array : \"))\n",
    "\n",
    "for i in range(0, num):\n",
    "    x =  int(input())\n",
    "    arr = np.append( arr, x )\n",
    "\n",
    "print()\n",
    "print(\"Original Array is : \", end=\" \")\n",
    "\n",
    "for i in range(0, num):\n",
    "    print(int(arr[i]), end=\" \")\n",
    "    \n",
    "print()\n",
    "print(\"\\nReverse Array is  : \", end=\" \")\n",
    "\n",
    "for i in range(num -1, -1 , -1):\n",
    "    print(int(arr[i]) , end=\" \")"
   ]
  }
 ],
 "metadata": {
  "kernelspec": {
   "display_name": "Python 3 (ipykernel)",
   "language": "python",
   "name": "python3"
  },
  "language_info": {
   "codemirror_mode": {
    "name": "ipython",
    "version": 3
   },
   "file_extension": ".py",
   "mimetype": "text/x-python",
   "name": "python",
   "nbconvert_exporter": "python",
   "pygments_lexer": "ipython3",
   "version": "3.9.13"
  }
 },
 "nbformat": 4,
 "nbformat_minor": 5
}
