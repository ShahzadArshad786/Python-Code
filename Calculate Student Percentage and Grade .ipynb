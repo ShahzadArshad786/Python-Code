{
 "cells": [
  {
   "cell_type": "code",
   "execution_count": 8,
   "id": "b0d57532",
   "metadata": {},
   "outputs": [
    {
     "name": "stdout",
     "output_type": "stream",
     "text": [
      "Enter Name : = Muhammad Shahzad\n",
      "Enter your Roll Number : = 36594\n",
      "Enter Your Marks : = 704\n",
      "\n",
      "Display Student Information\n",
      "\n",
      "Name\t\t\t\tRoll Number\tMarks\tPercentage\tGrade\n",
      "Muhammad Shahzad \t\t 36594 \t 704 \t\t 64.0 \t C\n"
     ]
    }
   ],
   "source": [
    "name = input(\"Enter Name : = \")\n",
    "roll_number = int(input(\"Enter your Roll Number : = \"))\n",
    "marks = int(input(\"Enter Your Marks : = \"))\n",
    "\n",
    "per = (marks * 100) / 1100\n",
    "\n",
    "if (per >= 80):\n",
    "    grade=\"A\"\n",
    "elif(per >=70):\n",
    "    grade=\"B\"\n",
    "elif(per >=60):\n",
    "    grade=\"C\"\n",
    "elif(per >= 50):\n",
    "    grade=\"D\"\n",
    "elif(per >= 40):\n",
    "    grade=\"E\"\n",
    "else:\n",
    "    grade=\"F\"\n",
    "\n",
    "    \n",
    "print(\"\\nDisplay Student Information\\n\")\n",
    "print(\"Name\\t\\t\\t\\tRoll Number\\tMarks\\tPercentage\\tGrade\")\n",
    "print(name,\"\\t\\t\" , roll_number , \"\\t\" , marks , \"\\t\\t\" , per , \"\\t\" , grade)"
   ]
  },
  {
   "cell_type": "code",
   "execution_count": null,
   "id": "d52bc530",
   "metadata": {},
   "outputs": [],
   "source": []
  }
 ],
 "metadata": {
  "kernelspec": {
   "display_name": "Python 3 (ipykernel)",
   "language": "python",
   "name": "python3"
  },
  "language_info": {
   "codemirror_mode": {
    "name": "ipython",
    "version": 3
   },
   "file_extension": ".py",
   "mimetype": "text/x-python",
   "name": "python",
   "nbconvert_exporter": "python",
   "pygments_lexer": "ipython3",
   "version": "3.9.13"
  }
 },
 "nbformat": 4,
 "nbformat_minor": 5
}
