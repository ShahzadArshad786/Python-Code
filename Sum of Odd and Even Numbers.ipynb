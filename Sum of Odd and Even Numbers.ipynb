{
 "cells": [
  {
   "cell_type": "markdown",
   "id": "c0687f04",
   "metadata": {},
   "source": [
    "#### Write a Python program that inputs a positive number. It then displays the sum of all Odd numbers and the sum of all even numbers from 1 to the number entered by the user using while loop. "
   ]
  },
  {
   "cell_type": "code",
   "execution_count": 4,
   "id": "be8a92b6",
   "metadata": {},
   "outputs": [
    {
     "name": "stdout",
     "output_type": "stream",
     "text": [
      "Enter an Positive Number : 5\n",
      "\n",
      "Sum of Even Numbers From 1 to  5  is :  6\n",
      "\n",
      "Sum of Odd Numbers From 1 to  5  is  :  9\n"
     ]
    }
   ],
   "source": [
    "end   = int(input(\"Enter an Positive Number : \"))\n",
    "\n",
    "evensum = 0\n",
    "oddsum  = 0\n",
    "\n",
    "s = 1\n",
    "\n",
    "while( s <= end ):\n",
    "    \n",
    "    if(s % 2 == 0):\n",
    "        \n",
    "        evensum = evensum + s\n",
    "        \n",
    "    else: \n",
    "        \n",
    "        oddsum = oddsum +  s\n",
    "        \n",
    "    s = s + 1 \n",
    "    \n",
    "print()\n",
    "print(\"Sum of Even Numbers From 1 to \", end , \" is : \", evensum)\n",
    "\n",
    "print()\n",
    "print(\"Sum of Odd Numbers From 1 to \", end , \" is  : \", oddsum)"
   ]
  },
  {
   "cell_type": "markdown",
   "id": "066cf324",
   "metadata": {},
   "source": [
    "#### Write a Python program that inputs a positive number. It then displays the sum of all Odd numbers and the sum of all even numbers from 1 to the number entered by the user using for loop."
   ]
  },
  {
   "cell_type": "code",
   "execution_count": 9,
   "id": "3d9d2089",
   "metadata": {},
   "outputs": [
    {
     "name": "stdout",
     "output_type": "stream",
     "text": [
      "Enter an Positive Number : 10\n",
      "\n",
      "Sum of Even Numbers From 1 to  10  is :  30\n",
      "\n",
      "Sum of Odd Numbers From 1 to  10  is  :  25\n"
     ]
    }
   ],
   "source": [
    "end   = int(input(\"Enter an Positive Number : \"))\n",
    "\n",
    "evensum = 0\n",
    "oddsum  = 0\n",
    "\n",
    "\n",
    "for s in range(1, end + 1):\n",
    "    \n",
    "    if(s % 2 == 0):\n",
    "        \n",
    "        evensum = evensum + s\n",
    "        \n",
    "    else: \n",
    "        \n",
    "        oddsum = oddsum +  s\n",
    "        \n",
    "    s = s + 1 \n",
    "    \n",
    "print()\n",
    "print(\"Sum of Even Numbers From 1 to \", end , \" is : \", evensum)\n",
    "\n",
    "print()\n",
    "print(\"Sum of Odd Numbers From 1 to \", end , \" is  : \", oddsum)"
   ]
  }
 ],
 "metadata": {
  "kernelspec": {
   "display_name": "Python 3 (ipykernel)",
   "language": "python",
   "name": "python3"
  },
  "language_info": {
   "codemirror_mode": {
    "name": "ipython",
    "version": 3
   },
   "file_extension": ".py",
   "mimetype": "text/x-python",
   "name": "python",
   "nbconvert_exporter": "python",
   "pygments_lexer": "ipython3",
   "version": "3.9.13"
  }
 },
 "nbformat": 4,
 "nbformat_minor": 5
}
