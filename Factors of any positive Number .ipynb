{
 "cells": [
  {
   "cell_type": "markdown",
   "id": "abecadf0",
   "metadata": {},
   "source": [
    "###### Print All Factors of a Given Number Using For Loop"
   ]
  },
  {
   "cell_type": "code",
   "execution_count": 5,
   "id": "6526c493",
   "metadata": {},
   "outputs": [
    {
     "name": "stdout",
     "output_type": "stream",
     "text": [
      "Enter Any Positive Number: 9\n",
      "\n",
      "Facotrs of a  9  are :\n",
      "1\n",
      "3\n",
      "9\n"
     ]
    }
   ],
   "source": [
    "num = int(input(\"Enter Any Positive Number: \"))\n",
    "\n",
    "print(\"\\nFacotrs of a \" , num , \" are :\")\n",
    "\n",
    "for i in range(1, num + 1):\n",
    "    if(num % i == 0):\n",
    "        print(i)"
   ]
  },
  {
   "cell_type": "markdown",
   "id": "1c4e7981",
   "metadata": {},
   "source": [
    "###### Print All Factors of a Given Number Using While Loop"
   ]
  },
  {
   "cell_type": "code",
   "execution_count": 6,
   "id": "24dfb2bf",
   "metadata": {},
   "outputs": [
    {
     "name": "stdout",
     "output_type": "stream",
     "text": [
      "Enter Any Positive Number: 12\n",
      "\n",
      "Facotrs of a  12  are :\n",
      "1\n",
      "2\n",
      "3\n",
      "4\n",
      "6\n",
      "12\n"
     ]
    }
   ],
   "source": [
    "num = int(input(\"Enter Any Positive Number: \"))\n",
    "\n",
    "print(\"\\nFacotrs of a \" , num , \" are :\")\n",
    "i = 1 \n",
    "while(i <= num):\n",
    "    if(num % i == 0):\n",
    "        print(i)\n",
    "    i = i + 1"
   ]
  },
  {
   "cell_type": "markdown",
   "id": "ac88caa9",
   "metadata": {},
   "source": [
    "###### Print All Factors of a Given Number Using Function "
   ]
  },
  {
   "cell_type": "code",
   "execution_count": 7,
   "id": "3ecc7ee0",
   "metadata": {},
   "outputs": [
    {
     "name": "stdout",
     "output_type": "stream",
     "text": [
      "Enter Any Positive Number: 20\n",
      "\n",
      "Facotrs of a  20  are :\n",
      "1\n",
      "2\n",
      "4\n",
      "5\n",
      "10\n",
      "20\n"
     ]
    }
   ],
   "source": [
    "def Factors(num):\n",
    "    \n",
    "    print(\"\\nFacotrs of a \" , num , \" are :\")\n",
    "    i = 1\n",
    "    \n",
    "    while(i <= num):\n",
    "        if(num % i == 0):\n",
    "            print(i)\n",
    "        i = i + 1\n",
    "\n",
    "num = int(input(\"Enter Any Positive Number: \"))\n",
    "Factors(num)"
   ]
  }
 ],
 "metadata": {
  "kernelspec": {
   "display_name": "Python 3 (ipykernel)",
   "language": "python",
   "name": "python3"
  },
  "language_info": {
   "codemirror_mode": {
    "name": "ipython",
    "version": 3
   },
   "file_extension": ".py",
   "mimetype": "text/x-python",
   "name": "python",
   "nbconvert_exporter": "python",
   "pygments_lexer": "ipython3",
   "version": "3.9.13"
  }
 },
 "nbformat": 4,
 "nbformat_minor": 5
}
