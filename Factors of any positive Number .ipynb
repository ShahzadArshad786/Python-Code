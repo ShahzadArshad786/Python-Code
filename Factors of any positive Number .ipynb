{
 "cells": [
  {
   "cell_type": "markdown",
   "id": "abecadf0",
   "metadata": {},
   "source": [
    "#### Write a Python program to print all factors of a given number using for Loop. "
   ]
  },
  {
   "cell_type": "code",
   "execution_count": 2,
   "id": "6526c493",
   "metadata": {},
   "outputs": [
    {
     "name": "stdout",
     "output_type": "stream",
     "text": [
      "Enter Any Positive Number: 50\n",
      "\n",
      "Facotrs of a  50  are : \n",
      "\n",
      "1 2 5 10 25 50 "
     ]
    }
   ],
   "source": [
    "num = int(input(\"Enter Any Positive Number: \"))\n",
    "\n",
    "print(\"\\nFacotrs of a \" , num , \" are : \\n\")\n",
    "\n",
    "for i in range(1, num + 1):\n",
    "    if(num % i == 0):\n",
    "        print(i , end = \" \")"
   ]
  },
  {
   "cell_type": "markdown",
   "id": "1c4e7981",
   "metadata": {},
   "source": [
    "#### Write a Python program to print all factors of a given number using while Loop."
   ]
  },
  {
   "cell_type": "code",
   "execution_count": 3,
   "id": "24dfb2bf",
   "metadata": {},
   "outputs": [
    {
     "name": "stdout",
     "output_type": "stream",
     "text": [
      "Enter Any Positive Number: 24\n",
      "\n",
      "Facotrs of a  24  are :\n",
      "\n",
      "1 2 3 4 6 8 12 24 "
     ]
    }
   ],
   "source": [
    "num = int(input(\"Enter Any Positive Number: \"))\n",
    "\n",
    "print(\"\\nFacotrs of a \" , num , \" are :\\n\")\n",
    "i = 1 \n",
    "while(i <= num):\n",
    "    if(num % i == 0):\n",
    "        print(i , end = \" \")\n",
    "    i = i + 1"
   ]
  },
  {
   "cell_type": "markdown",
   "id": "ac88caa9",
   "metadata": {},
   "source": [
    "#### Print All Factors of a Given Number Using Function "
   ]
  },
  {
   "cell_type": "code",
   "execution_count": 4,
   "id": "3ecc7ee0",
   "metadata": {},
   "outputs": [
    {
     "name": "stdout",
     "output_type": "stream",
     "text": [
      "Enter Any Positive Number: 25\n",
      "\n",
      "Facotrs of a  25  are : \n",
      "\n",
      "1 5 25 "
     ]
    }
   ],
   "source": [
    "def Factors(num):\n",
    "    \n",
    "    print(\"\\nFacotrs of a \" , num , \" are : \\n\")\n",
    "    i = 1\n",
    "    \n",
    "    while(i <= num):\n",
    "        if(num % i == 0):\n",
    "            print(i , end= \" \")\n",
    "        i = i + 1\n",
    "\n",
    "num = int(input(\"Enter Any Positive Number: \"))\n",
    "Factors(num)"
   ]
  }
 ],
 "metadata": {
  "kernelspec": {
   "display_name": "Python 3 (ipykernel)",
   "language": "python",
   "name": "python3"
  },
  "language_info": {
   "codemirror_mode": {
    "name": "ipython",
    "version": 3
   },
   "file_extension": ".py",
   "mimetype": "text/x-python",
   "name": "python",
   "nbconvert_exporter": "python",
   "pygments_lexer": "ipython3",
   "version": "3.9.13"
  }
 },
 "nbformat": 4,
 "nbformat_minor": 5
}
