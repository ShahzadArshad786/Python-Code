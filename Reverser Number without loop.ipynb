{
 "cells": [
  {
   "cell_type": "markdown",
   "id": "4290ee25",
   "metadata": {},
   "source": [
    "## Write a program to reversing a five digit integer number in Python Programming Language ?"
   ]
  },
  {
   "cell_type": "code",
   "execution_count": null,
   "id": "f0bc9618",
   "metadata": {},
   "outputs": [],
   "source": [
    "num = int(input (\"Enter an interger number\"))\n",
    "\n",
    "if num < 10000 or num > 99999:\n",
    "    print(\"Number is invalid\")\n",
    "else:\n",
    "        a = num // 10000;\n",
    "        a1 = num % 10000;\n",
    "        \n",
    "        b= a1 // 1000;\n",
    "        b1 = a1 % 1000;\n",
    "        \n",
    "        c = b1 // 100;\n",
    "        c1 = b1 % 100;\n",
    "        \n",
    "        d = c1  //  10;\n",
    "        e  = c1 % 10;\n",
    "        print(\"Reverse number is : = \" , e,d,c,b,a)"
   ]
  }
 ],
 "metadata": {
  "kernelspec": {
   "display_name": "Python 3 (ipykernel)",
   "language": "python",
   "name": "python3"
  },
  "language_info": {
   "codemirror_mode": {
    "name": "ipython",
    "version": 3
   },
   "file_extension": ".py",
   "mimetype": "text/x-python",
   "name": "python",
   "nbconvert_exporter": "python",
   "pygments_lexer": "ipython3",
   "version": "3.9.13"
  }
 },
 "nbformat": 4,
 "nbformat_minor": 5
}
