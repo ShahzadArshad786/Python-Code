{
 "cells": [
  {
   "cell_type": "markdown",
   "id": "7ab5b5c6",
   "metadata": {},
   "source": [
    "#### Write a Python program that inputs an integer number and check whether it is a Even or Odd Number."
   ]
  },
  {
   "cell_type": "code",
   "execution_count": 4,
   "id": "c2a3c138",
   "metadata": {},
   "outputs": [
    {
     "name": "stdout",
     "output_type": "stream",
     "text": [
      " Enter an integer Number : 11\n",
      "\n",
      " 11  is a Odd Number\n"
     ]
    }
   ],
   "source": [
    "num = int (input (\" Enter an integer Number : \"))\n",
    "\n",
    "if ( num % 2 == 0 ):\n",
    "    \n",
    "    print(\"\\n\" , num, \" is a Even Number\")\n",
    "    \n",
    "else:\n",
    "    \n",
    "    print(\"\\n\" , num, \" is a Odd Number\")"
   ]
  }
 ],
 "metadata": {
  "kernelspec": {
   "display_name": "Python 3 (ipykernel)",
   "language": "python",
   "name": "python3"
  },
  "language_info": {
   "codemirror_mode": {
    "name": "ipython",
    "version": 3
   },
   "file_extension": ".py",
   "mimetype": "text/x-python",
   "name": "python",
   "nbconvert_exporter": "python",
   "pygments_lexer": "ipython3",
   "version": "3.9.13"
  }
 },
 "nbformat": 4,
 "nbformat_minor": 5
}
