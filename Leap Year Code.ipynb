{
 "cells": [
  {
   "cell_type": "code",
   "execution_count": 23,
   "id": "2a5e5ee6",
   "metadata": {},
   "outputs": [
    {
     "name": "stdout",
     "output_type": "stream",
     "text": [
      "Enter any Year: 2020\n",
      "2020  is a Leap Year\n"
     ]
    }
   ],
   "source": [
    "year = int(input(\"Enter any Year: \"))\n",
    "\n",
    "if(year % 4 == 0):\n",
    "        print(year , \" is a Leap Year\")\n",
    "else:\n",
    "        print(year , \" is not a Leap Year\")\n"
   ]
  },
  {
   "cell_type": "markdown",
   "id": "e6bbed37",
   "metadata": {},
   "source": [
    "###### Print All Leap Years between a specific range"
   ]
  },
  {
   "cell_type": "code",
   "execution_count": 14,
   "id": "5ea26b74",
   "metadata": {},
   "outputs": [
    {
     "name": "stdout",
     "output_type": "stream",
     "text": [
      "Enter Starting Year : 2010\n",
      "Enter Ending Year   : 2024\n",
      "\n",
      " 2010 is not a Leap Year\n",
      "\n",
      " 2011 is not a Leap Year\n",
      "\n",
      " 2012 is a Leap Year\n",
      "\n",
      " 2013 is not a Leap Year\n",
      "\n",
      " 2014 is not a Leap Year\n",
      "\n",
      " 2015 is not a Leap Year\n",
      "\n",
      " 2016 is a Leap Year\n",
      "\n",
      " 2017 is not a Leap Year\n",
      "\n",
      " 2018 is not a Leap Year\n",
      "\n",
      " 2019 is not a Leap Year\n",
      "\n",
      " 2020 is a Leap Year\n",
      "\n",
      " 2021 is not a Leap Year\n",
      "\n",
      " 2022 is not a Leap Year\n",
      "\n",
      " 2023 is not a Leap Year\n",
      "\n",
      " 2024 is a Leap Year\n"
     ]
    }
   ],
   "source": [
    "s = int(input(\"Enter Starting Year : \"))\n",
    "e = int(input(\"Enter Ending Year   : \"))\n",
    "\n",
    "for i in range(s, e+1):\n",
    "    if(i % 4 == 0):\n",
    "        print(\"\\n\", i, \"is a Leap Year\")\n",
    "    else:\n",
    "        print(\"\\n\", i, \"is not a Leap Year\")"
   ]
  }
 ],
 "metadata": {
  "kernelspec": {
   "display_name": "Python 3 (ipykernel)",
   "language": "python",
   "name": "python3"
  },
  "language_info": {
   "codemirror_mode": {
    "name": "ipython",
    "version": 3
   },
   "file_extension": ".py",
   "mimetype": "text/x-python",
   "name": "python",
   "nbconvert_exporter": "python",
   "pygments_lexer": "ipython3",
   "version": "3.9.13"
  }
 },
 "nbformat": 4,
 "nbformat_minor": 5
}
