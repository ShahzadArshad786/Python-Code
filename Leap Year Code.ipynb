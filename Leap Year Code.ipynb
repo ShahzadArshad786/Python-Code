{
 "cells": [
  {
   "cell_type": "markdown",
   "id": "f0927f24",
   "metadata": {},
   "source": [
    "#### Write a Python program that takes a year as input and checks whether it is a leap year or not."
   ]
  },
  {
   "cell_type": "code",
   "execution_count": 4,
   "id": "cd437641",
   "metadata": {},
   "outputs": [
    {
     "name": "stdout",
     "output_type": "stream",
     "text": [
      "\n",
      "Enter any Year: 2017\n",
      "\n",
      " 2017  is not a Leap Year\n"
     ]
    }
   ],
   "source": [
    "year = int(input(\"\\nEnter any Year: \"))\n",
    "\n",
    "if(year % 4 == 0):\n",
    "        print(\"\\n\" , year , \" is a Leap Year\")\n",
    "else:\n",
    "        print(\"\\n\" , year , \" is not a Leap Year\")"
   ]
  },
  {
   "cell_type": "markdown",
   "id": "44a0f91a",
   "metadata": {},
   "source": [
    "#### Write a Python program that takes a year as input and checks whether it is a leap year or not."
   ]
  },
  {
   "cell_type": "code",
   "execution_count": 6,
   "id": "51c61c30",
   "metadata": {},
   "outputs": [
    {
     "name": "stdout",
     "output_type": "stream",
     "text": [
      "\n",
      "Enter any Year: 2010\n",
      "\n",
      " 2010  is not a Leap Year\n"
     ]
    }
   ],
   "source": [
    "import calendar \n",
    "\n",
    "year = int(input(\"\\nEnter any Year: \"))\n",
    "\n",
    "if(calendar.isleap(year)):\n",
    "    \n",
    "        print(\"\\n\" , year , \" is a Leap Year\")\n",
    "else:\n",
    "        print(\"\\n\" , year , \" is not a Leap Year\")"
   ]
  },
  {
   "cell_type": "markdown",
   "id": "e6bbed37",
   "metadata": {},
   "source": [
    "#### Write a Python program that takes a range as input and prints all leap years between given range."
   ]
  },
  {
   "cell_type": "code",
   "execution_count": 3,
   "id": "5ea26b74",
   "metadata": {},
   "outputs": [
    {
     "name": "stdout",
     "output_type": "stream",
     "text": [
      "Enter Starting Year : 2010\n",
      "\n",
      "Enter Ending Year   : 2024\n",
      "\n",
      " 2012 is a Leap Year\n",
      "\n",
      " 2016 is a Leap Year\n",
      "\n",
      " 2020 is a Leap Year\n",
      "\n",
      " 2024 is a Leap Year\n"
     ]
    }
   ],
   "source": [
    "s = int(input(\"Enter Starting Year : \"))\n",
    "e = int(input(\"\\nEnter Ending Year   : \"))\n",
    "\n",
    "for i in range(s, e+1):\n",
    "    if(i % 4 == 0):\n",
    "        print(\"\\n\", i, \"is a Leap Year\")"
   ]
  }
 ],
 "metadata": {
  "kernelspec": {
   "display_name": "Python 3 (ipykernel)",
   "language": "python",
   "name": "python3"
  },
  "language_info": {
   "codemirror_mode": {
    "name": "ipython",
    "version": 3
   },
   "file_extension": ".py",
   "mimetype": "text/x-python",
   "name": "python",
   "nbconvert_exporter": "python",
   "pygments_lexer": "ipython3",
   "version": "3.9.13"
  }
 },
 "nbformat": 4,
 "nbformat_minor": 5
}
